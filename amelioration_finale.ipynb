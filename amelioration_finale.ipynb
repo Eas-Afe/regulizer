{
  "nbformat": 4,
  "nbformat_minor": 0,
  "metadata": {
    "colab": {
      "provenance": []
    },
    "kernelspec": {
      "name": "python3",
      "display_name": "Python 3"
    },
    "language_info": {
      "name": "python"
    }
  },
  "cells": [
    {
      "cell_type": "code",
      "source": [
        "!pip install keras"
      ],
      "metadata": {
        "colab": {
          "base_uri": "https://localhost:8080/"
        },
        "id": "r4GP6EJqnGwn",
        "outputId": "a8c481bf-589f-4bd6-ba31-2fe3c6266734"
      },
      "execution_count": null,
      "outputs": [
        {
          "output_type": "stream",
          "name": "stdout",
          "text": [
            "Looking in indexes: https://pypi.org/simple, https://us-python.pkg.dev/colab-wheels/public/simple/\n",
            "Requirement already satisfied: keras in /usr/local/lib/python3.7/dist-packages (2.9.0)\n"
          ]
        }
      ]
    },
    {
      "cell_type": "code",
      "execution_count": 1,
      "metadata": {
        "id": "9pH3JFVgmCf2"
      },
      "outputs": [],
      "source": [
        "import numpy as np\n",
        "import matplotlib.pyplot as plt\n",
        "import tensorflow as tf \n",
        "from tensorflow.keras.models import Model\n",
        "from tensorflow.keras.layers import Input, Dense \n",
        "from tensorflow.keras.datasets import mnist\n",
        "from tensorflow.keras.regularizers import l2,l1"
      ]
    },
    {
      "cell_type": "code",
      "source": [
        "#dense = couche entiérement connecté, fait sur la couche de sortie\n",
        "# load _ data retourne variables x,y de test et de train\n",
        "#database s'appele mnist \n",
        "\n",
        "(x_train,y_train),(x_test,y_test)=mnist.load_data()\n",
        "print(np.shape(x_train),np.shape(y_train))\n",
        "print(np.shape(x_test),np.shape(y_test))"
      ],
      "metadata": {
        "colab": {
          "base_uri": "https://localhost:8080/"
        },
        "id": "8btUPPKBmlvj",
        "outputId": "22399fe3-79e1-445d-974c-49ee46db43ca"
      },
      "execution_count": 2,
      "outputs": [
        {
          "output_type": "stream",
          "name": "stdout",
          "text": [
            "Downloading data from https://storage.googleapis.com/tensorflow/tf-keras-datasets/mnist.npz\n",
            "11490434/11490434 [==============================] - 1s 0us/step\n",
            "(60000, 28, 28) (60000,)\n",
            "(10000, 28, 28) (10000,)\n"
          ]
        }
      ]
    },
    {
      "cell_type": "code",
      "source": [
        "#x(60000 nb images d'apprentissage 28,28 taille d'image)et y(60000,) nb d'étiquette correspondant\n",
        "#1000 nb image de test \n",
        "#profondeur par défaut 1"
      ],
      "metadata": {
        "id": "msrxznzWntWp"
      },
      "execution_count": null,
      "outputs": []
    },
    {
      "cell_type": "code",
      "source": [
        "#classifier la BD\n",
        "#2.visualiser qlq exp d'app\n",
        "plt.rcParams[\"figure.figsize\"]=[9.,9.] #taille de l'image\n",
        "plt.rcParams[\"figure.autolayout\"]=False\n",
        "\n",
        "fig,axs = plt.subplots(nrows=3, ncols=3)\n",
        "axs = axs.flatten()\n",
        "for ax,j in zip(axs,range(9)):\n",
        "  ax.axis(\"off\")\n",
        "  ax.imshow(x_train[j], cmap=\"gray\")\n",
        "  ax.set_title(str(y_train[j]))\n",
        "\n",
        "\n",
        "\n",
        "plt.show()"
      ],
      "metadata": {
        "colab": {
          "base_uri": "https://localhost:8080/",
          "height": 536
        },
        "id": "btzgXsJspx99",
        "outputId": "7c4a95af-d75b-4bcf-d561-2f749dfd8b26"
      },
      "execution_count": 3,
      "outputs": [
        {
          "output_type": "display_data",
          "data": {
            "text/plain": [
              "<Figure size 648x648 with 9 Axes>"
            ],
            "image/png": "[encoded data removed]"
          },
          "metadata": {
            "needs_background": "light"
          }
        }
      ]
    },
    {
      "cell_type": "code",
      "source": [
        "#3. préparer les données en pixels (applatissement + normalisation)\n",
        "x_train_v=np.reshape(x_train, [60000,784])/255  # la val doit etre entre 0 et 255 dnc pour avoir normalisation on divise sur 60000 images ayant 28*28=784pixels sur 255 \n",
        "x_test_v=np.reshape(x_test, [10000,784])/255\n",
        "\n",
        "print(np.shape(x_train_v))\n",
        "print(np.shape(x_test_v))"
      ],
      "metadata": {
        "colab": {
          "base_uri": "https://localhost:8080/"
        },
        "id": "r7eWwQqztuXv",
        "outputId": "5ca9ef84-70df-47c0-f6b0-c368f407c774"
      },
      "execution_count": 4,
      "outputs": [
        {
          "output_type": "stream",
          "name": "stdout",
          "text": [
            "(60000, 784)\n",
            "(10000, 784)\n"
          ]
        }
      ]
    },
    {
      "cell_type": "code",
      "source": [
        "#4.catégoriser la cible (one hot encoding)\n",
        "from tensorflow.keras.utils import to_categorical\n",
        "y_train_c=to_categorical(y_train)\n",
        "y_test_c=to_categorical(y_test)\n",
        "\n",
        "print(\"avant\", np.shape(y_train), \"après\", np.shape(y_train_c))\n",
        "print(\"avant\", y_train[10])\n",
        "print(\"avant\", y_train_c[10])"
      ],
      "metadata": {
        "colab": {
          "base_uri": "https://localhost:8080/"
        },
        "id": "kJ2kzhcdud5j",
        "outputId": "4c149ae4-84bd-4de8-f3bf-aa0a81f89877"
      },
      "execution_count": 5,
      "outputs": [
        {
          "output_type": "stream",
          "name": "stdout",
          "text": [
            "avant (60000,) après (60000, 10)\n",
            "avant 3\n",
            "avant [0. 0. 0. 1. 0. 0. 0. 0. 0. 0.]\n"
          ]
        }
      ]
    },
    {
      "cell_type": "code",
      "source": [
        "#5.1développer un modèle RN avec 0 couche caché\n",
        "#les parametres de modeles sont omégas wi et les biais bi\n",
        "def perceptron_monocouche():\n",
        "  inp=Input(shape=(784,))\n",
        "  outp=Dense(10,activation=\"softmax\") (inp) # (dense pour les paramètres de modèles et inp entré de cette couche n)\n",
        "  model = Model (inp,outp)\n",
        "  model.summary()\n",
        "  return model"
      ],
      "metadata": {
        "id": "s0_Bs27mwOfh"
      },
      "execution_count": 6,
      "outputs": []
    },
    {
      "cell_type": "code",
      "source": [
        "#5.2 avec multicouches\n",
        "def perceptron_multicouche():\n",
        "  inp=Input(shape=(784,)) #784 pixel avec , étiquette \n",
        "  c1=Dense(200,activation=\"sigmoid\") (inp) \n",
        "  c2=Dense(100,activation=\"sigmoid\") (c1) \n",
        "  c3=Dense(60,activation=\"sigmoid\") (c2) \n",
        "  c4=Dense(30,activation=\"sigmoid\") (c3) \n",
        "  outp=Dense(10,activation=\"softmax\") (c4) \n",
        "  model = Model (inp,outp)\n",
        "  model.summary()\n",
        "  return model\n",
        "\n",
        "  #ns avons utiliser sigmoide dans c1 à c4 psk ns sommes pas besoin de comparer ci par rapport à une autre cj"
      ],
      "metadata": {
        "id": "ZTTkrRYR0Db3"
      },
      "execution_count": 7,
      "outputs": []
    },
    {
      "cell_type": "code",
      "source": [
        "#5.2 avec multicouches\n",
        "def perceptron_multicouche_relu():\n",
        "  inp=Input(shape=(784,)) #784 pixel avec , étiquette \n",
        "  c1=Dense(200,activation=\"relu\") (inp) #les valeurs de neurons pour chaque couche est donné dans l'exercice\n",
        "  c2=Dense(100,activation=\"relu\") (c1) \n",
        "  c3=Dense(60,activation=\"relu\") (c2) \n",
        "  c4=Dense(30,activation=\"relu\") (c3) \n",
        "  outp=Dense(10,activation=\"softmax\") (c4) \n",
        "  model = Model (inp,outp)\n",
        "  model.summary()\n",
        "  return model"
      ],
      "metadata": {
        "id": "cpNC7P0b3v19"
      },
      "execution_count": 8,
      "outputs": []
    },
    {
      "cell_type": "code",
      "source": [
        "#6.model d'entrainement\n",
        "#a.fct cout\n",
        "fc=\"categorical_crossentropy\" #psk on a plusieurs classes si on a que 2 on va utiliser binary_crossentropy\n",
        "\n",
        "#fct d'optimisation SGD\n",
        "optim=tf.keras.optimizers.SGD(learning_rate=0.001)\n"
      ],
      "metadata": {
        "id": "NCd5UItP3C1f"
      },
      "execution_count": 9,
      "outputs": []
    },
    {
      "cell_type": "code",
      "source": [
        "from tensorflow.python import metrics\n",
        "#c. apprentissage\n",
        "modelA=perceptron_monocouche()\n",
        "modelA.compile(loss=fc, optimizer=optim, metrics=[\"accuracy\"])\n",
        "# 1 b 1 ayt3tl, kolchy ayconsommé mémoire, batch c à d par lots pour mélanger toute les classes vu que \n",
        "#fit pour apprendre \n",
        "histA=modelA.fit(x_train_v,y_train_c, validation_data=(x_test_v,y_test_c), epochs=100, batch_size=100, shuffle=True)"
      ],
      "metadata": {
        "colab": {
          "base_uri": "https://localhost:8080/"
        },
        "id": "erZdgSUX7bFP",
        "outputId": "897a135d-50a6-476b-8e06-b5b4e08022b1"
      },
      "execution_count": null,
      "outputs": [
        {
          "output_type": "stream",
          "name": "stdout",
          "text": [
            "Model: \"model_4\"\n",
            "_________________________________________________________________\n",
            " Layer (type)                Output Shape              Param #   \n",
            "=================================================================\n",
            " input_5 (InputLayer)        [(None, 784)]             0         \n",
            "                                                                 \n",
            " dense_12 (Dense)            (None, 10)                7850      \n",
            "                                                                 \n",
            "=================================================================\n",
            "Total params: 7,850\n",
            "Trainable params: 7,850\n",
            "Non-trainable params: 0\n",
            "_________________________________________________________________\n",
            "Epoch 1/100\n",
            "600/600 [==============================] - 2s 3ms/step - loss: 2.1149 - accuracy: 0.2837 - val_loss: 1.8597 - val_accuracy: 0.4579\n",
            "Epoch 2/100\n",
            "600/600 [==============================] - 2s 3ms/step - loss: 1.6735 - accuracy: 0.6163 - val_loss: 1.5026 - val_accuracy: 0.7088\n",
            "Epoch 3/100\n",
            "600/600 [==============================] - 2s 3ms/step - loss: 1.3903 - accuracy: 0.7373 - val_loss: 1.2698 - val_accuracy: 0.7690\n",
            "Epoch 4/100\n",
            "600/600 [==============================] - 2s 4ms/step - loss: 1.2023 - accuracy: 0.7754 - val_loss: 1.1125 - val_accuracy: 0.7999\n",
            "Epoch 5/100\n",
            "600/600 [==============================] - 2s 4ms/step - loss: 1.0721 - accuracy: 0.7965 - val_loss: 1.0010 - val_accuracy: 0.8123\n",
            "Epoch 6/100\n",
            "600/600 [==============================] - 2s 3ms/step - loss: 0.9776 - accuracy: 0.8099 - val_loss: 0.9184 - val_accuracy: 0.8222\n",
            "Epoch 7/100\n",
            "600/600 [==============================] - 2s 3ms/step - loss: 0.9060 - accuracy: 0.8185 - val_loss: 0.8547 - val_accuracy: 0.8306\n",
            "Epoch 8/100\n",
            "600/600 [==============================] - 2s 3ms/step - loss: 0.8500 - accuracy: 0.8253 - val_loss: 0.8043 - val_accuracy: 0.8377\n",
            "Epoch 9/100\n",
            "600/600 [==============================] - 2s 3ms/step - loss: 0.8048 - accuracy: 0.8309 - val_loss: 0.7631 - val_accuracy: 0.8416\n",
            "Epoch 10/100\n",
            "600/600 [==============================] - 2s 3ms/step - loss: 0.7676 - accuracy: 0.8362 - val_loss: 0.7289 - val_accuracy: 0.8453\n",
            "Epoch 11/100\n",
            "600/600 [==============================] - 2s 4ms/step - loss: 0.7364 - accuracy: 0.8398 - val_loss: 0.7000 - val_accuracy: 0.8489\n",
            "Epoch 12/100\n",
            "600/600 [==============================] - 2s 4ms/step - loss: 0.7097 - accuracy: 0.8433 - val_loss: 0.6752 - val_accuracy: 0.8528\n",
            "Epoch 13/100\n",
            "600/600 [==============================] - 2s 3ms/step - loss: 0.6867 - accuracy: 0.8461 - val_loss: 0.6536 - val_accuracy: 0.8570\n",
            "Epoch 14/100\n",
            "600/600 [==============================] - 2s 3ms/step - loss: 0.6665 - accuracy: 0.8489 - val_loss: 0.6347 - val_accuracy: 0.8596\n",
            "Epoch 15/100\n",
            "600/600 [==============================] - 2s 3ms/step - loss: 0.6487 - accuracy: 0.8510 - val_loss: 0.6178 - val_accuracy: 0.8624\n",
            "Epoch 16/100\n",
            "600/600 [==============================] - 2s 3ms/step - loss: 0.6329 - accuracy: 0.8532 - val_loss: 0.6028 - val_accuracy: 0.8640\n",
            "Epoch 17/100\n",
            "600/600 [==============================] - 2s 4ms/step - loss: 0.6186 - accuracy: 0.8553 - val_loss: 0.5893 - val_accuracy: 0.8655\n",
            "Epoch 18/100\n",
            "600/600 [==============================] - 2s 4ms/step - loss: 0.6058 - accuracy: 0.8570 - val_loss: 0.5771 - val_accuracy: 0.8667\n",
            "Epoch 19/100\n",
            "600/600 [==============================] - 3s 5ms/step - loss: 0.5941 - accuracy: 0.8587 - val_loss: 0.5660 - val_accuracy: 0.8681\n",
            "Epoch 20/100\n",
            "600/600 [==============================] - 3s 5ms/step - loss: 0.5835 - accuracy: 0.8603 - val_loss: 0.5558 - val_accuracy: 0.8688\n",
            "Epoch 21/100\n",
            "600/600 [==============================] - 2s 4ms/step - loss: 0.5737 - accuracy: 0.8618 - val_loss: 0.5464 - val_accuracy: 0.8711\n",
            "Epoch 22/100\n",
            "600/600 [==============================] - 2s 3ms/step - loss: 0.5647 - accuracy: 0.8630 - val_loss: 0.5378 - val_accuracy: 0.8720\n",
            "Epoch 23/100\n",
            "600/600 [==============================] - 2s 3ms/step - loss: 0.5563 - accuracy: 0.8641 - val_loss: 0.5298 - val_accuracy: 0.8736\n",
            "Epoch 24/100\n",
            "600/600 [==============================] - 2s 4ms/step - loss: 0.5486 - accuracy: 0.8652 - val_loss: 0.5224 - val_accuracy: 0.8747\n",
            "Epoch 25/100\n",
            "600/600 [==============================] - 2s 3ms/step - loss: 0.5413 - accuracy: 0.8662 - val_loss: 0.5154 - val_accuracy: 0.8752\n",
            "Epoch 26/100\n",
            "600/600 [==============================] - 2s 3ms/step - loss: 0.5346 - accuracy: 0.8672 - val_loss: 0.5089 - val_accuracy: 0.8758\n",
            "Epoch 27/100\n",
            "600/600 [==============================] - 2s 3ms/step - loss: 0.5283 - accuracy: 0.8680 - val_loss: 0.5029 - val_accuracy: 0.8763\n",
            "Epoch 28/100\n",
            "600/600 [==============================] - 2s 3ms/step - loss: 0.5224 - accuracy: 0.8689 - val_loss: 0.4972 - val_accuracy: 0.8769\n",
            "Epoch 29/100\n",
            "600/600 [==============================] - 2s 3ms/step - loss: 0.5168 - accuracy: 0.8701 - val_loss: 0.4918 - val_accuracy: 0.8782\n",
            "Epoch 30/100\n",
            "600/600 [==============================] - 2s 3ms/step - loss: 0.5115 - accuracy: 0.8709 - val_loss: 0.4867 - val_accuracy: 0.8791\n",
            "Epoch 31/100\n",
            "600/600 [==============================] - 2s 4ms/step - loss: 0.5065 - accuracy: 0.8720 - val_loss: 0.4819 - val_accuracy: 0.8795\n",
            "Epoch 32/100\n",
            "600/600 [==============================] - 2s 3ms/step - loss: 0.5018 - accuracy: 0.8726 - val_loss: 0.4774 - val_accuracy: 0.8800\n",
            "Epoch 33/100\n",
            "600/600 [==============================] - 2s 3ms/step - loss: 0.4973 - accuracy: 0.8733 - val_loss: 0.4730 - val_accuracy: 0.8813\n",
            "Epoch 34/100\n",
            "600/600 [==============================] - 2s 3ms/step - loss: 0.4931 - accuracy: 0.8741 - val_loss: 0.4689 - val_accuracy: 0.8822\n",
            "Epoch 35/100\n",
            "600/600 [==============================] - 2s 3ms/step - loss: 0.4890 - accuracy: 0.8748 - val_loss: 0.4650 - val_accuracy: 0.8824\n",
            "Epoch 36/100\n",
            "600/600 [==============================] - 2s 3ms/step - loss: 0.4851 - accuracy: 0.8754 - val_loss: 0.4613 - val_accuracy: 0.8827\n",
            "Epoch 37/100\n",
            "600/600 [==============================] - 2s 4ms/step - loss: 0.4814 - accuracy: 0.8759 - val_loss: 0.4577 - val_accuracy: 0.8830\n",
            "Epoch 38/100\n",
            "600/600 [==============================] - 2s 4ms/step - loss: 0.4779 - accuracy: 0.8764 - val_loss: 0.4543 - val_accuracy: 0.8836\n",
            "Epoch 39/100\n",
            "600/600 [==============================] - 2s 3ms/step - loss: 0.4745 - accuracy: 0.8773 - val_loss: 0.4511 - val_accuracy: 0.8841\n",
            "Epoch 40/100\n",
            "600/600 [==============================] - 2s 3ms/step - loss: 0.4713 - accuracy: 0.8778 - val_loss: 0.4479 - val_accuracy: 0.8844\n",
            "Epoch 41/100\n",
            "600/600 [==============================] - 2s 3ms/step - loss: 0.4681 - accuracy: 0.8784 - val_loss: 0.4450 - val_accuracy: 0.8845\n",
            "Epoch 42/100\n",
            "600/600 [==============================] - 2s 3ms/step - loss: 0.4651 - accuracy: 0.8789 - val_loss: 0.4421 - val_accuracy: 0.8852\n",
            "Epoch 43/100\n",
            "600/600 [==============================] - 2s 3ms/step - loss: 0.4623 - accuracy: 0.8794 - val_loss: 0.4393 - val_accuracy: 0.8864\n",
            "Epoch 44/100\n",
            "600/600 [==============================] - 2s 3ms/step - loss: 0.4595 - accuracy: 0.8801 - val_loss: 0.4366 - val_accuracy: 0.8868\n",
            "Epoch 45/100\n",
            "600/600 [==============================] - 2s 3ms/step - loss: 0.4568 - accuracy: 0.8805 - val_loss: 0.4340 - val_accuracy: 0.8876\n",
            "Epoch 46/100\n",
            "600/600 [==============================] - 2s 3ms/step - loss: 0.4543 - accuracy: 0.8809 - val_loss: 0.4316 - val_accuracy: 0.8881\n",
            "Epoch 47/100\n",
            "600/600 [==============================] - 2s 3ms/step - loss: 0.4518 - accuracy: 0.8813 - val_loss: 0.4292 - val_accuracy: 0.8884\n",
            "Epoch 48/100\n",
            "600/600 [==============================] - 2s 4ms/step - loss: 0.4494 - accuracy: 0.8819 - val_loss: 0.4269 - val_accuracy: 0.8890\n",
            "Epoch 49/100\n",
            "600/600 [==============================] - 2s 4ms/step - loss: 0.4470 - accuracy: 0.8823 - val_loss: 0.4246 - val_accuracy: 0.8894\n",
            "Epoch 50/100\n",
            "600/600 [==============================] - 2s 3ms/step - loss: 0.4448 - accuracy: 0.8828 - val_loss: 0.4225 - val_accuracy: 0.8895\n",
            "Epoch 51/100\n",
            "600/600 [==============================] - 2s 4ms/step - loss: 0.4426 - accuracy: 0.8832 - val_loss: 0.4204 - val_accuracy: 0.8898\n",
            "Epoch 52/100\n",
            "600/600 [==============================] - 2s 3ms/step - loss: 0.4405 - accuracy: 0.8835 - val_loss: 0.4184 - val_accuracy: 0.8900\n",
            "Epoch 53/100\n",
            "600/600 [==============================] - 2s 3ms/step - loss: 0.4385 - accuracy: 0.8842 - val_loss: 0.4164 - val_accuracy: 0.8904\n",
            "Epoch 54/100\n",
            "600/600 [==============================] - 2s 3ms/step - loss: 0.4365 - accuracy: 0.8844 - val_loss: 0.4145 - val_accuracy: 0.8907\n",
            "Epoch 55/100\n",
            "600/600 [==============================] - 2s 4ms/step - loss: 0.4346 - accuracy: 0.8849 - val_loss: 0.4127 - val_accuracy: 0.8913\n",
            "Epoch 56/100\n",
            "600/600 [==============================] - 2s 3ms/step - loss: 0.4327 - accuracy: 0.8852 - val_loss: 0.4109 - val_accuracy: 0.8916\n",
            "Epoch 57/100\n",
            "600/600 [==============================] - 2s 3ms/step - loss: 0.4309 - accuracy: 0.8858 - val_loss: 0.4091 - val_accuracy: 0.8922\n",
            "Epoch 58/100\n",
            "600/600 [==============================] - 2s 3ms/step - loss: 0.4291 - accuracy: 0.8862 - val_loss: 0.4074 - val_accuracy: 0.8925\n",
            "Epoch 59/100\n",
            "600/600 [==============================] - 2s 3ms/step - loss: 0.4274 - accuracy: 0.8863 - val_loss: 0.4058 - val_accuracy: 0.8928\n",
            "Epoch 60/100\n",
            "600/600 [==============================] - 2s 3ms/step - loss: 0.4257 - accuracy: 0.8866 - val_loss: 0.4042 - val_accuracy: 0.8929\n",
            "Epoch 61/100\n",
            "600/600 [==============================] - 2s 3ms/step - loss: 0.4241 - accuracy: 0.8871 - val_loss: 0.4027 - val_accuracy: 0.8933\n",
            "Epoch 62/100\n",
            "600/600 [==============================] - 2s 3ms/step - loss: 0.4225 - accuracy: 0.8875 - val_loss: 0.4011 - val_accuracy: 0.8936\n",
            "Epoch 63/100\n",
            "600/600 [==============================] - 2s 3ms/step - loss: 0.4210 - accuracy: 0.8877 - val_loss: 0.3997 - val_accuracy: 0.8939\n",
            "Epoch 64/100\n",
            "600/600 [==============================] - 2s 3ms/step - loss: 0.4195 - accuracy: 0.8879 - val_loss: 0.3982 - val_accuracy: 0.8940\n",
            "Epoch 65/100\n",
            "600/600 [==============================] - 2s 3ms/step - loss: 0.4180 - accuracy: 0.8884 - val_loss: 0.3968 - val_accuracy: 0.8943\n",
            "Epoch 66/100\n",
            "600/600 [==============================] - 2s 3ms/step - loss: 0.4166 - accuracy: 0.8886 - val_loss: 0.3955 - val_accuracy: 0.8945\n",
            "Epoch 67/100\n",
            "600/600 [==============================] - 2s 3ms/step - loss: 0.4152 - accuracy: 0.8888 - val_loss: 0.3941 - val_accuracy: 0.8946\n",
            "Epoch 68/100\n",
            "600/600 [==============================] - 2s 3ms/step - loss: 0.4138 - accuracy: 0.8890 - val_loss: 0.3928 - val_accuracy: 0.8946\n",
            "Epoch 69/100\n",
            "600/600 [==============================] - 2s 3ms/step - loss: 0.4125 - accuracy: 0.8892 - val_loss: 0.3915 - val_accuracy: 0.8947\n",
            "Epoch 70/100\n",
            "600/600 [==============================] - 2s 3ms/step - loss: 0.4112 - accuracy: 0.8893 - val_loss: 0.3903 - val_accuracy: 0.8950\n",
            "Epoch 71/100\n",
            "600/600 [==============================] - 2s 3ms/step - loss: 0.4099 - accuracy: 0.8895 - val_loss: 0.3891 - val_accuracy: 0.8953\n",
            "Epoch 72/100\n",
            "600/600 [==============================] - 2s 3ms/step - loss: 0.4086 - accuracy: 0.8899 - val_loss: 0.3879 - val_accuracy: 0.8958\n",
            "Epoch 73/100\n",
            "600/600 [==============================] - 2s 3ms/step - loss: 0.4074 - accuracy: 0.8901 - val_loss: 0.3868 - val_accuracy: 0.8961\n",
            "Epoch 74/100\n",
            "600/600 [==============================] - 2s 3ms/step - loss: 0.4062 - accuracy: 0.8903 - val_loss: 0.3856 - val_accuracy: 0.8963\n",
            "Epoch 75/100\n",
            "600/600 [==============================] - 2s 3ms/step - loss: 0.4051 - accuracy: 0.8905 - val_loss: 0.3845 - val_accuracy: 0.8967\n",
            "Epoch 76/100\n",
            "600/600 [==============================] - 2s 3ms/step - loss: 0.4039 - accuracy: 0.8909 - val_loss: 0.3834 - val_accuracy: 0.8974\n",
            "Epoch 77/100\n",
            "600/600 [==============================] - 2s 3ms/step - loss: 0.4028 - accuracy: 0.8910 - val_loss: 0.3824 - val_accuracy: 0.8978\n",
            "Epoch 78/100\n",
            "600/600 [==============================] - 2s 3ms/step - loss: 0.4017 - accuracy: 0.8912 - val_loss: 0.3813 - val_accuracy: 0.8982\n",
            "Epoch 79/100\n",
            "600/600 [==============================] - 2s 3ms/step - loss: 0.4006 - accuracy: 0.8915 - val_loss: 0.3803 - val_accuracy: 0.8984\n",
            "Epoch 80/100\n",
            "600/600 [==============================] - 2s 3ms/step - loss: 0.3995 - accuracy: 0.8918 - val_loss: 0.3793 - val_accuracy: 0.8986\n",
            "Epoch 81/100\n",
            "600/600 [==============================] - 2s 3ms/step - loss: 0.3985 - accuracy: 0.8920 - val_loss: 0.3783 - val_accuracy: 0.8986\n",
            "Epoch 82/100\n",
            "600/600 [==============================] - 2s 4ms/step - loss: 0.3975 - accuracy: 0.8923 - val_loss: 0.3774 - val_accuracy: 0.8986\n",
            "Epoch 83/100\n",
            "600/600 [==============================] - 2s 4ms/step - loss: 0.3965 - accuracy: 0.8923 - val_loss: 0.3764 - val_accuracy: 0.8988\n",
            "Epoch 84/100\n",
            "600/600 [==============================] - 2s 3ms/step - loss: 0.3955 - accuracy: 0.8925 - val_loss: 0.3755 - val_accuracy: 0.8993\n",
            "Epoch 85/100\n",
            "600/600 [==============================] - 2s 3ms/step - loss: 0.3946 - accuracy: 0.8927 - val_loss: 0.3746 - val_accuracy: 0.8993\n",
            "Epoch 86/100\n",
            "600/600 [==============================] - 2s 3ms/step - loss: 0.3936 - accuracy: 0.8929 - val_loss: 0.3737 - val_accuracy: 0.8994\n",
            "Epoch 87/100\n",
            "600/600 [==============================] - 2s 3ms/step - loss: 0.3927 - accuracy: 0.8931 - val_loss: 0.3728 - val_accuracy: 0.8996\n",
            "Epoch 88/100\n",
            "600/600 [==============================] - 2s 3ms/step - loss: 0.3918 - accuracy: 0.8934 - val_loss: 0.3720 - val_accuracy: 0.8997\n",
            "Epoch 89/100\n",
            "600/600 [==============================] - 2s 3ms/step - loss: 0.3909 - accuracy: 0.8934 - val_loss: 0.3711 - val_accuracy: 0.8997\n",
            "Epoch 90/100\n",
            "600/600 [==============================] - 2s 4ms/step - loss: 0.3900 - accuracy: 0.8938 - val_loss: 0.3703 - val_accuracy: 0.9001\n",
            "Epoch 91/100\n",
            "600/600 [==============================] - 2s 3ms/step - loss: 0.3891 - accuracy: 0.8939 - val_loss: 0.3695 - val_accuracy: 0.9007\n",
            "Epoch 92/100\n",
            "600/600 [==============================] - 2s 3ms/step - loss: 0.3883 - accuracy: 0.8941 - val_loss: 0.3687 - val_accuracy: 0.9007\n",
            "Epoch 93/100\n",
            "600/600 [==============================] - 2s 3ms/step - loss: 0.3875 - accuracy: 0.8945 - val_loss: 0.3679 - val_accuracy: 0.9010\n",
            "Epoch 94/100\n",
            "600/600 [==============================] - 2s 3ms/step - loss: 0.3866 - accuracy: 0.8946 - val_loss: 0.3671 - val_accuracy: 0.9013\n",
            "Epoch 95/100\n",
            "600/600 [==============================] - 2s 3ms/step - loss: 0.3858 - accuracy: 0.8947 - val_loss: 0.3664 - val_accuracy: 0.9015\n",
            "Epoch 96/100\n",
            "600/600 [==============================] - 2s 3ms/step - loss: 0.3850 - accuracy: 0.8948 - val_loss: 0.3656 - val_accuracy: 0.9017\n",
            "Epoch 97/100\n",
            "600/600 [==============================] - 2s 3ms/step - loss: 0.3842 - accuracy: 0.8950 - val_loss: 0.3649 - val_accuracy: 0.9019\n",
            "Epoch 98/100\n",
            "600/600 [==============================] - 2s 3ms/step - loss: 0.3835 - accuracy: 0.8952 - val_loss: 0.3642 - val_accuracy: 0.9019\n",
            "Epoch 99/100\n",
            "600/600 [==============================] - 2s 3ms/step - loss: 0.3827 - accuracy: 0.8953 - val_loss: 0.3634 - val_accuracy: 0.9021\n",
            "Epoch 100/100\n",
            "600/600 [==============================] - 2s 4ms/step - loss: 0.3820 - accuracy: 0.8956 - val_loss: 0.3628 - val_accuracy: 0.9022\n"
          ]
        }
      ]
    },
    {
      "cell_type": "code",
      "source": [
        "#c. apprentissage\n",
        "modelB=perceptron_multicouche()\n",
        "modelB.compile(loss=fc, optimizer=optim, metrics=[\"accuracy\"])\n",
        "histB=modelB.fit(x_train_v,y_train_c, validation_data=(x_test_v,y_test_c), epochs=100, batch_size=100, shuffle=True)"
      ],
      "metadata": {
        "colab": {
          "base_uri": "https://localhost:8080/"
        },
        "id": "I2yagIbp9g6j",
        "outputId": "346410a7-d7e0-4e09-cd02-49f3933b3513"
      },
      "execution_count": null,
      "outputs": [
        {
          "output_type": "stream",
          "name": "stdout",
          "text": [
            "Model: \"model_5\"\n",
            "_________________________________________________________________\n",
            " Layer (type)                Output Shape              Param #   \n",
            "=================================================================\n",
            " input_6 (InputLayer)        [(None, 784)]             0         \n",
            "                                                                 \n",
            " dense_13 (Dense)            (None, 200)               157000    \n",
            "                                                                 \n",
            " dense_14 (Dense)            (None, 100)               20100     \n",
            "                                                                 \n",
            " dense_15 (Dense)            (None, 60)                6060      \n",
            "                                                                 \n",
            " dense_16 (Dense)            (None, 30)                1830      \n",
            "                                                                 \n",
            " dense_17 (Dense)            (None, 10)                310       \n",
            "                                                                 \n",
            "=================================================================\n",
            "Total params: 185,300\n",
            "Trainable params: 185,300\n",
            "Non-trainable params: 0\n",
            "_________________________________________________________________\n",
            "Epoch 1/100\n",
            "600/600 [==============================] - 5s 7ms/step - loss: 2.3890 - accuracy: 0.0904 - val_loss: 2.3405 - val_accuracy: 0.0892\n",
            "Epoch 2/100\n",
            "600/600 [==============================] - 5s 8ms/step - loss: 2.3242 - accuracy: 0.0904 - val_loss: 2.3115 - val_accuracy: 0.0892\n",
            "Epoch 3/100\n",
            "600/600 [==============================] - 7s 11ms/step - loss: 2.3076 - accuracy: 0.0900 - val_loss: 2.3038 - val_accuracy: 0.1008\n",
            "Epoch 4/100\n",
            "600/600 [==============================] - 4s 7ms/step - loss: 2.3030 - accuracy: 0.1061 - val_loss: 2.3017 - val_accuracy: 0.1135\n",
            "Epoch 5/100\n",
            "600/600 [==============================] - 5s 8ms/step - loss: 2.3017 - accuracy: 0.1124 - val_loss: 2.3011 - val_accuracy: 0.1135\n",
            "Epoch 6/100\n",
            "600/600 [==============================] - 4s 7ms/step - loss: 2.3013 - accuracy: 0.1124 - val_loss: 2.3010 - val_accuracy: 0.1135\n",
            "Epoch 7/100\n",
            "600/600 [==============================] - 4s 7ms/step - loss: 2.3012 - accuracy: 0.1124 - val_loss: 2.3009 - val_accuracy: 0.1135\n",
            "Epoch 8/100\n",
            "600/600 [==============================] - 4s 7ms/step - loss: 2.3011 - accuracy: 0.1124 - val_loss: 2.3009 - val_accuracy: 0.1135\n",
            "Epoch 9/100\n",
            "600/600 [==============================] - 4s 6ms/step - loss: 2.3011 - accuracy: 0.1124 - val_loss: 2.3009 - val_accuracy: 0.1135\n",
            "Epoch 10/100\n",
            "600/600 [==============================] - 5s 9ms/step - loss: 2.3010 - accuracy: 0.1124 - val_loss: 2.3009 - val_accuracy: 0.1135\n",
            "Epoch 11/100\n",
            "600/600 [==============================] - 4s 6ms/step - loss: 2.3010 - accuracy: 0.1124 - val_loss: 2.3008 - val_accuracy: 0.1135\n",
            "Epoch 12/100\n",
            "600/600 [==============================] - 4s 6ms/step - loss: 2.3010 - accuracy: 0.1124 - val_loss: 2.3008 - val_accuracy: 0.1135\n",
            "Epoch 13/100\n",
            "600/600 [==============================] - 4s 7ms/step - loss: 2.3010 - accuracy: 0.1124 - val_loss: 2.3008 - val_accuracy: 0.1135\n",
            "Epoch 14/100\n",
            "600/600 [==============================] - 4s 6ms/step - loss: 2.3009 - accuracy: 0.1124 - val_loss: 2.3008 - val_accuracy: 0.1135\n",
            "Epoch 15/100\n",
            "600/600 [==============================] - 4s 6ms/step - loss: 2.3009 - accuracy: 0.1124 - val_loss: 2.3007 - val_accuracy: 0.1135\n",
            "Epoch 16/100\n",
            "600/600 [==============================] - 4s 7ms/step - loss: 2.3009 - accuracy: 0.1124 - val_loss: 2.3007 - val_accuracy: 0.1135\n",
            "Epoch 17/100\n",
            "600/600 [==============================] - 5s 8ms/step - loss: 2.3008 - accuracy: 0.1124 - val_loss: 2.3007 - val_accuracy: 0.1135\n",
            "Epoch 18/100\n",
            "600/600 [==============================] - 4s 6ms/step - loss: 2.3008 - accuracy: 0.1124 - val_loss: 2.3006 - val_accuracy: 0.1135\n",
            "Epoch 19/100\n",
            "600/600 [==============================] - 5s 8ms/step - loss: 2.3008 - accuracy: 0.1124 - val_loss: 2.3006 - val_accuracy: 0.1135\n",
            "Epoch 20/100\n",
            "600/600 [==============================] - 4s 6ms/step - loss: 2.3008 - accuracy: 0.1124 - val_loss: 2.3006 - val_accuracy: 0.1135\n",
            "Epoch 21/100\n",
            "600/600 [==============================] - 4s 6ms/step - loss: 2.3007 - accuracy: 0.1124 - val_loss: 2.3006 - val_accuracy: 0.1135\n",
            "Epoch 22/100\n",
            "600/600 [==============================] - 4s 6ms/step - loss: 2.3007 - accuracy: 0.1124 - val_loss: 2.3005 - val_accuracy: 0.1135\n",
            "Epoch 23/100\n",
            "600/600 [==============================] - 4s 7ms/step - loss: 2.3007 - accuracy: 0.1124 - val_loss: 2.3005 - val_accuracy: 0.1135\n",
            "Epoch 24/100\n",
            "600/600 [==============================] - 5s 8ms/step - loss: 2.3006 - accuracy: 0.1124 - val_loss: 2.3005 - val_accuracy: 0.1135\n",
            "Epoch 25/100\n",
            "600/600 [==============================] - 4s 6ms/step - loss: 2.3006 - accuracy: 0.1124 - val_loss: 2.3005 - val_accuracy: 0.1135\n",
            "Epoch 26/100\n",
            "600/600 [==============================] - 4s 6ms/step - loss: 2.3006 - accuracy: 0.1124 - val_loss: 2.3004 - val_accuracy: 0.1135\n",
            "Epoch 27/100\n",
            "600/600 [==============================] - 4s 7ms/step - loss: 2.3006 - accuracy: 0.1124 - val_loss: 2.3004 - val_accuracy: 0.1135\n",
            "Epoch 28/100\n",
            "600/600 [==============================] - 4s 6ms/step - loss: 2.3005 - accuracy: 0.1124 - val_loss: 2.3004 - val_accuracy: 0.1135\n",
            "Epoch 29/100\n",
            "600/600 [==============================] - 4s 7ms/step - loss: 2.3005 - accuracy: 0.1124 - val_loss: 2.3003 - val_accuracy: 0.1135\n",
            "Epoch 30/100\n",
            "600/600 [==============================] - 4s 7ms/step - loss: 2.3005 - accuracy: 0.1124 - val_loss: 2.3003 - val_accuracy: 0.1135\n",
            "Epoch 31/100\n",
            "600/600 [==============================] - 4s 7ms/step - loss: 2.3004 - accuracy: 0.1124 - val_loss: 2.3003 - val_accuracy: 0.1135\n",
            "Epoch 32/100\n",
            "600/600 [==============================] - 4s 6ms/step - loss: 2.3004 - accuracy: 0.1124 - val_loss: 2.3002 - val_accuracy: 0.1135\n",
            "Epoch 33/100\n",
            "600/600 [==============================] - 4s 6ms/step - loss: 2.3004 - accuracy: 0.1124 - val_loss: 2.3002 - val_accuracy: 0.1135\n",
            "Epoch 34/100\n",
            "600/600 [==============================] - 4s 7ms/step - loss: 2.3004 - accuracy: 0.1124 - val_loss: 2.3002 - val_accuracy: 0.1135\n",
            "Epoch 35/100\n",
            "600/600 [==============================] - 4s 7ms/step - loss: 2.3003 - accuracy: 0.1124 - val_loss: 2.3002 - val_accuracy: 0.1135\n",
            "Epoch 36/100\n",
            "600/600 [==============================] - 4s 7ms/step - loss: 2.3003 - accuracy: 0.1124 - val_loss: 2.3001 - val_accuracy: 0.1135\n",
            "Epoch 37/100\n",
            "600/600 [==============================] - 4s 7ms/step - loss: 2.3003 - accuracy: 0.1124 - val_loss: 2.3001 - val_accuracy: 0.1135\n",
            "Epoch 38/100\n",
            "600/600 [==============================] - 4s 6ms/step - loss: 2.3002 - accuracy: 0.1124 - val_loss: 2.3001 - val_accuracy: 0.1135\n",
            "Epoch 39/100\n",
            "600/600 [==============================] - 5s 8ms/step - loss: 2.3002 - accuracy: 0.1124 - val_loss: 2.3000 - val_accuracy: 0.1135\n",
            "Epoch 40/100\n",
            "600/600 [==============================] - 4s 6ms/step - loss: 2.3002 - accuracy: 0.1124 - val_loss: 2.3000 - val_accuracy: 0.1135\n",
            "Epoch 41/100\n",
            "600/600 [==============================] - 4s 7ms/step - loss: 2.3001 - accuracy: 0.1124 - val_loss: 2.3000 - val_accuracy: 0.1135\n",
            "Epoch 42/100\n",
            "600/600 [==============================] - 4s 6ms/step - loss: 2.3001 - accuracy: 0.1124 - val_loss: 2.3000 - val_accuracy: 0.1135\n",
            "Epoch 43/100\n",
            "600/600 [==============================] - 4s 7ms/step - loss: 2.3001 - accuracy: 0.1124 - val_loss: 2.2999 - val_accuracy: 0.1135\n",
            "Epoch 44/100\n",
            "600/600 [==============================] - 5s 8ms/step - loss: 2.3001 - accuracy: 0.1124 - val_loss: 2.2999 - val_accuracy: 0.1135\n",
            "Epoch 45/100\n",
            "600/600 [==============================] - 4s 7ms/step - loss: 2.3000 - accuracy: 0.1124 - val_loss: 2.2999 - val_accuracy: 0.1135\n",
            "Epoch 46/100\n",
            "600/600 [==============================] - 4s 7ms/step - loss: 2.3000 - accuracy: 0.1124 - val_loss: 2.2998 - val_accuracy: 0.1135\n",
            "Epoch 47/100\n",
            "600/600 [==============================] - 4s 7ms/step - loss: 2.3000 - accuracy: 0.1124 - val_loss: 2.2998 - val_accuracy: 0.1135\n",
            "Epoch 48/100\n",
            "600/600 [==============================] - 4s 6ms/step - loss: 2.2999 - accuracy: 0.1124 - val_loss: 2.2998 - val_accuracy: 0.1135\n",
            "Epoch 49/100\n",
            "600/600 [==============================] - 5s 8ms/step - loss: 2.2999 - accuracy: 0.1124 - val_loss: 2.2997 - val_accuracy: 0.1135\n",
            "Epoch 50/100\n",
            "600/600 [==============================] - 5s 8ms/step - loss: 2.2999 - accuracy: 0.1124 - val_loss: 2.2997 - val_accuracy: 0.1135\n",
            "Epoch 51/100\n",
            "600/600 [==============================] - 4s 7ms/step - loss: 2.2998 - accuracy: 0.1124 - val_loss: 2.2997 - val_accuracy: 0.1135\n",
            "Epoch 52/100\n",
            "600/600 [==============================] - 4s 6ms/step - loss: 2.2998 - accuracy: 0.1124 - val_loss: 2.2996 - val_accuracy: 0.1135\n",
            "Epoch 53/100\n",
            "600/600 [==============================] - 6s 9ms/step - loss: 2.2998 - accuracy: 0.1124 - val_loss: 2.2996 - val_accuracy: 0.1135\n",
            "Epoch 54/100\n",
            "600/600 [==============================] - 4s 7ms/step - loss: 2.2998 - accuracy: 0.1124 - val_loss: 2.2996 - val_accuracy: 0.1135\n",
            "Epoch 55/100\n",
            "600/600 [==============================] - 4s 7ms/step - loss: 2.2997 - accuracy: 0.1124 - val_loss: 2.2996 - val_accuracy: 0.1135\n",
            "Epoch 56/100\n",
            "600/600 [==============================] - 4s 6ms/step - loss: 2.2997 - accuracy: 0.1124 - val_loss: 2.2995 - val_accuracy: 0.1135\n",
            "Epoch 57/100\n",
            "600/600 [==============================] - 4s 6ms/step - loss: 2.2997 - accuracy: 0.1124 - val_loss: 2.2995 - val_accuracy: 0.1135\n",
            "Epoch 58/100\n",
            "600/600 [==============================] - 4s 7ms/step - loss: 2.2996 - accuracy: 0.1124 - val_loss: 2.2995 - val_accuracy: 0.1135\n",
            "Epoch 59/100\n",
            "600/600 [==============================] - 4s 7ms/step - loss: 2.2996 - accuracy: 0.1124 - val_loss: 2.2994 - val_accuracy: 0.1135\n",
            "Epoch 60/100\n",
            "600/600 [==============================] - 4s 6ms/step - loss: 2.2996 - accuracy: 0.1124 - val_loss: 2.2994 - val_accuracy: 0.1135\n",
            "Epoch 61/100\n",
            "600/600 [==============================] - 4s 6ms/step - loss: 2.2995 - accuracy: 0.1124 - val_loss: 2.2994 - val_accuracy: 0.1135\n",
            "Epoch 62/100\n",
            "600/600 [==============================] - 4s 7ms/step - loss: 2.2995 - accuracy: 0.1124 - val_loss: 2.2993 - val_accuracy: 0.1135\n",
            "Epoch 63/100\n",
            "600/600 [==============================] - 5s 8ms/step - loss: 2.2995 - accuracy: 0.1124 - val_loss: 2.2993 - val_accuracy: 0.1135\n",
            "Epoch 64/100\n",
            "600/600 [==============================] - 4s 6ms/step - loss: 2.2994 - accuracy: 0.1124 - val_loss: 2.2993 - val_accuracy: 0.1135\n",
            "Epoch 65/100\n",
            "600/600 [==============================] - 4s 6ms/step - loss: 2.2994 - accuracy: 0.1124 - val_loss: 2.2992 - val_accuracy: 0.1135\n",
            "Epoch 66/100\n",
            "600/600 [==============================] - 4s 7ms/step - loss: 2.2994 - accuracy: 0.1124 - val_loss: 2.2992 - val_accuracy: 0.1135\n",
            "Epoch 67/100\n",
            "600/600 [==============================] - 4s 6ms/step - loss: 2.2993 - accuracy: 0.1124 - val_loss: 2.2992 - val_accuracy: 0.1135\n",
            "Epoch 68/100\n",
            "600/600 [==============================] - 4s 7ms/step - loss: 2.2993 - accuracy: 0.1124 - val_loss: 2.2991 - val_accuracy: 0.1135\n",
            "Epoch 69/100\n",
            "600/600 [==============================] - 4s 6ms/step - loss: 2.2993 - accuracy: 0.1124 - val_loss: 2.2991 - val_accuracy: 0.1135\n",
            "Epoch 70/100\n",
            "600/600 [==============================] - 5s 8ms/step - loss: 2.2993 - accuracy: 0.1124 - val_loss: 2.2991 - val_accuracy: 0.1135\n",
            "Epoch 71/100\n",
            "600/600 [==============================] - 4s 6ms/step - loss: 2.2992 - accuracy: 0.1124 - val_loss: 2.2990 - val_accuracy: 0.1135\n",
            "Epoch 72/100\n",
            "600/600 [==============================] - 5s 8ms/step - loss: 2.2992 - accuracy: 0.1124 - val_loss: 2.2990 - val_accuracy: 0.1135\n",
            "Epoch 73/100\n",
            "600/600 [==============================] - 5s 8ms/step - loss: 2.2992 - accuracy: 0.1124 - val_loss: 2.2990 - val_accuracy: 0.1135\n",
            "Epoch 74/100\n",
            "600/600 [==============================] - 4s 7ms/step - loss: 2.2991 - accuracy: 0.1124 - val_loss: 2.2989 - val_accuracy: 0.1135\n",
            "Epoch 75/100\n",
            "600/600 [==============================] - 4s 7ms/step - loss: 2.2991 - accuracy: 0.1124 - val_loss: 2.2989 - val_accuracy: 0.1135\n",
            "Epoch 76/100\n",
            "600/600 [==============================] - 4s 7ms/step - loss: 2.2991 - accuracy: 0.1124 - val_loss: 2.2989 - val_accuracy: 0.1135\n",
            "Epoch 77/100\n",
            "600/600 [==============================] - 4s 6ms/step - loss: 2.2990 - accuracy: 0.1124 - val_loss: 2.2988 - val_accuracy: 0.1135\n",
            "Epoch 78/100\n",
            "600/600 [==============================] - 4s 7ms/step - loss: 2.2990 - accuracy: 0.1124 - val_loss: 2.2988 - val_accuracy: 0.1135\n",
            "Epoch 79/100\n",
            "600/600 [==============================] - 4s 7ms/step - loss: 2.2990 - accuracy: 0.1124 - val_loss: 2.2988 - val_accuracy: 0.1135\n",
            "Epoch 80/100\n",
            "600/600 [==============================] - 4s 7ms/step - loss: 2.2989 - accuracy: 0.1124 - val_loss: 2.2987 - val_accuracy: 0.1135\n",
            "Epoch 81/100\n",
            "600/600 [==============================] - 5s 8ms/step - loss: 2.2989 - accuracy: 0.1124 - val_loss: 2.2987 - val_accuracy: 0.1135\n",
            "Epoch 82/100\n",
            "600/600 [==============================] - 4s 7ms/step - loss: 2.2988 - accuracy: 0.1124 - val_loss: 2.2987 - val_accuracy: 0.1135\n",
            "Epoch 83/100\n",
            "600/600 [==============================] - 5s 7ms/step - loss: 2.2988 - accuracy: 0.1124 - val_loss: 2.2986 - val_accuracy: 0.1135\n",
            "Epoch 84/100\n",
            "600/600 [==============================] - 4s 7ms/step - loss: 2.2988 - accuracy: 0.1124 - val_loss: 2.2986 - val_accuracy: 0.1135\n",
            "Epoch 85/100\n",
            "600/600 [==============================] - 4s 7ms/step - loss: 2.2987 - accuracy: 0.1124 - val_loss: 2.2986 - val_accuracy: 0.1135\n",
            "Epoch 86/100\n",
            "600/600 [==============================] - 4s 7ms/step - loss: 2.2987 - accuracy: 0.1124 - val_loss: 2.2985 - val_accuracy: 0.1135\n",
            "Epoch 87/100\n",
            "600/600 [==============================] - 4s 6ms/step - loss: 2.2987 - accuracy: 0.1124 - val_loss: 2.2985 - val_accuracy: 0.1135\n",
            "Epoch 88/100\n",
            "600/600 [==============================] - 4s 6ms/step - loss: 2.2986 - accuracy: 0.1124 - val_loss: 2.2985 - val_accuracy: 0.1135\n",
            "Epoch 89/100\n",
            "600/600 [==============================] - 4s 7ms/step - loss: 2.2986 - accuracy: 0.1124 - val_loss: 2.2984 - val_accuracy: 0.1135\n",
            "Epoch 90/100\n",
            "600/600 [==============================] - 4s 7ms/step - loss: 2.2986 - accuracy: 0.1124 - val_loss: 2.2984 - val_accuracy: 0.1135\n",
            "Epoch 91/100\n",
            "600/600 [==============================] - 4s 7ms/step - loss: 2.2985 - accuracy: 0.1124 - val_loss: 2.2984 - val_accuracy: 0.1135\n",
            "Epoch 92/100\n",
            "600/600 [==============================] - 4s 6ms/step - loss: 2.2985 - accuracy: 0.1124 - val_loss: 2.2983 - val_accuracy: 0.1135\n",
            "Epoch 93/100\n",
            "600/600 [==============================] - 4s 6ms/step - loss: 2.2985 - accuracy: 0.1124 - val_loss: 2.2983 - val_accuracy: 0.1135\n",
            "Epoch 94/100\n",
            "600/600 [==============================] - 4s 7ms/step - loss: 2.2984 - accuracy: 0.1124 - val_loss: 2.2982 - val_accuracy: 0.1135\n",
            "Epoch 95/100\n",
            "600/600 [==============================] - 6s 9ms/step - loss: 2.2984 - accuracy: 0.1124 - val_loss: 2.2982 - val_accuracy: 0.1135\n",
            "Epoch 96/100\n",
            "600/600 [==============================] - 4s 7ms/step - loss: 2.2984 - accuracy: 0.1124 - val_loss: 2.2982 - val_accuracy: 0.1135\n",
            "Epoch 97/100\n",
            "600/600 [==============================] - 4s 7ms/step - loss: 2.2983 - accuracy: 0.1124 - val_loss: 2.2981 - val_accuracy: 0.1135\n",
            "Epoch 98/100\n",
            "600/600 [==============================] - 4s 7ms/step - loss: 2.2983 - accuracy: 0.1124 - val_loss: 2.2981 - val_accuracy: 0.1135\n",
            "Epoch 99/100\n",
            "600/600 [==============================] - 4s 7ms/step - loss: 2.2982 - accuracy: 0.1124 - val_loss: 2.2980 - val_accuracy: 0.1135\n",
            "Epoch 100/100\n",
            "600/600 [==============================] - 4s 7ms/step - loss: 2.2982 - accuracy: 0.1124 - val_loss: 2.2980 - val_accuracy: 0.1135\n"
          ]
        }
      ]
    },
    {
      "cell_type": "code",
      "source": [
        "#7.visualiser les couches\n",
        "plt.rcParams[\"figure.figsize\"]=[6., 5.]\n",
        "plt.rcParams.update()\n",
        "plt.show()"
      ],
      "metadata": {
        "id": "T8pTQvqT3ToT"
      },
      "execution_count": null,
      "outputs": []
    },
    {
      "cell_type": "code",
      "source": [
        "#8.evaluer le modèles sur ensemble de test\n",
        "test_loss_modelB, test_acc_modelB = modelB.evaluate(x_test_v,  y_test_c, verbose=2)\n"
      ],
      "metadata": {
        "id": "Al5_VN5q3Tc8",
        "colab": {
          "base_uri": "https://localhost:8080/"
        },
        "outputId": "60d92a6d-2fa6-4793-b67b-3e422fc2aab9"
      },
      "execution_count": null,
      "outputs": [
        {
          "output_type": "stream",
          "name": "stdout",
          "text": [
            "313/313 - 1s - loss: 2.2980 - accuracy: 0.1135 - 758ms/epoch - 2ms/step\n"
          ]
        }
      ]
    },
    {
      "cell_type": "code",
      "source": [
        "print(test_acc_modelB)\n",
        "print(test_loss_modelB)"
      ],
      "metadata": {
        "colab": {
          "base_uri": "https://localhost:8080/"
        },
        "id": "gt64kyvs-Isf",
        "outputId": "d0bda477-51b7-4c22-85a3-9c5dc2b95129"
      },
      "execution_count": null,
      "outputs": [
        {
          "output_type": "stream",
          "name": "stdout",
          "text": [
            "0.11349999904632568\n",
            "2.298011064529419\n"
          ]
        }
      ]
    },
    {
      "cell_type": "code",
      "source": [
        "pred_B= modelB.predict(x_test_v) \n",
        "pred_B= np.argmax(pred_B, axis = 1)[:5] \n",
        "label_B = np.argmax(y_test_c,axis = 1)[:5] \n",
        "\n",
        "print(pred_B) \n",
        "print(label_B)"
      ],
      "metadata": {
        "colab": {
          "base_uri": "https://localhost:8080/"
        },
        "id": "tcUFVuGJNfCc",
        "outputId": "eabbef96-1fe5-4e44-8803-205d3be2bf81"
      },
      "execution_count": null,
      "outputs": [
        {
          "output_type": "stream",
          "name": "stdout",
          "text": [
            "313/313 [==============================] - 1s 3ms/step\n",
            "[1 1 1 1 1]\n",
            "[7 2 1 0 4]\n"
          ]
        }
      ]
    },
    {
      "cell_type": "markdown",
      "source": [
        "**Modèle d' Base**"
      ],
      "metadata": {
        "id": "O5O6NRsUUfF7"
      }
    },
    {
      "cell_type": "code",
      "source": [
        "#c. apprentissage\n",
        "modelC=perceptron_multicouche_relu()\n",
        "modelC.compile(loss=fc, optimizer=optim, metrics=[\"accuracy\"])\n",
        "histC=modelC.fit(x_train_v,y_train_c, validation_data=(x_test_v,y_test_c), epochs=100, batch_size=100, shuffle=True)"
      ],
      "metadata": {
        "colab": {
          "base_uri": "https://localhost:8080/"
        },
        "id": "7R1aCH5jUdqD",
        "outputId": "800c8d8a-1365-4643-e1f3-30462aa46365"
      },
      "execution_count": 10,
      "outputs": [
        {
          "output_type": "stream",
          "name": "stdout",
          "text": [
            "Model: \"model\"\n",
            "_________________________________________________________________\n",
            " Layer (type)                Output Shape              Param #   \n",
            "=================================================================\n",
            " input_1 (InputLayer)        [(None, 784)]             0         \n",
            "                                                                 \n",
            " dense (Dense)               (None, 200)               157000    \n",
            "                                                                 \n",
            " dense_1 (Dense)             (None, 100)               20100     \n",
            "                                                                 \n",
            " dense_2 (Dense)             (None, 60)                6060      \n",
            "                                                                 \n",
            " dense_3 (Dense)             (None, 30)                1830      \n",
            "                                                                 \n",
            " dense_4 (Dense)             (None, 10)                310       \n",
            "                                                                 \n",
            "=================================================================\n",
            "Total params: 185,300\n",
            "Trainable params: 185,300\n",
            "Non-trainable params: 0\n",
            "_________________________________________________________________\n",
            "Epoch 1/100\n",
            "600/600 [==============================] - 5s 7ms/step - loss: 2.2745 - accuracy: 0.1063 - val_loss: 2.2382 - val_accuracy: 0.1114\n",
            "Epoch 2/100\n",
            "600/600 [==============================] - 4s 6ms/step - loss: 2.1957 - accuracy: 0.1418 - val_loss: 2.1422 - val_accuracy: 0.1745\n",
            "Epoch 3/100\n",
            "600/600 [==============================] - 6s 9ms/step - loss: 2.0783 - accuracy: 0.2686 - val_loss: 1.9960 - val_accuracy: 0.3594\n",
            "Epoch 4/100\n",
            "600/600 [==============================] - 5s 8ms/step - loss: 1.8993 - accuracy: 0.4656 - val_loss: 1.7719 - val_accuracy: 0.5524\n",
            "Epoch 5/100\n",
            "600/600 [==============================] - 4s 6ms/step - loss: 1.6279 - accuracy: 0.6137 - val_loss: 1.4449 - val_accuracy: 0.6785\n",
            "Epoch 6/100\n",
            "600/600 [==============================] - 4s 6ms/step - loss: 1.2853 - accuracy: 0.7160 - val_loss: 1.1006 - val_accuracy: 0.7636\n",
            "Epoch 7/100\n",
            "600/600 [==============================] - 4s 7ms/step - loss: 0.9919 - accuracy: 0.7717 - val_loss: 0.8574 - val_accuracy: 0.7995\n",
            "Epoch 8/100\n",
            "600/600 [==============================] - 6s 10ms/step - loss: 0.8002 - accuracy: 0.8000 - val_loss: 0.7072 - val_accuracy: 0.8223\n",
            "Epoch 9/100\n",
            "600/600 [==============================] - 6s 9ms/step - loss: 0.6794 - accuracy: 0.8218 - val_loss: 0.6107 - val_accuracy: 0.8406\n",
            "Epoch 10/100\n",
            "600/600 [==============================] - 6s 10ms/step - loss: 0.5988 - accuracy: 0.8368 - val_loss: 0.5446 - val_accuracy: 0.8520\n",
            "Epoch 11/100\n",
            "600/600 [==============================] - 4s 7ms/step - loss: 0.5413 - accuracy: 0.8502 - val_loss: 0.4965 - val_accuracy: 0.8626\n",
            "Epoch 12/100\n",
            "600/600 [==============================] - 5s 8ms/step - loss: 0.4984 - accuracy: 0.8605 - val_loss: 0.4600 - val_accuracy: 0.8714\n",
            "Epoch 13/100\n",
            "600/600 [==============================] - 4s 6ms/step - loss: 0.4656 - accuracy: 0.8691 - val_loss: 0.4318 - val_accuracy: 0.8789\n",
            "Epoch 14/100\n",
            "600/600 [==============================] - 4s 7ms/step - loss: 0.4394 - accuracy: 0.8760 - val_loss: 0.4092 - val_accuracy: 0.8848\n",
            "Epoch 15/100\n",
            "600/600 [==============================] - 4s 7ms/step - loss: 0.4174 - accuracy: 0.8820 - val_loss: 0.3896 - val_accuracy: 0.8891\n",
            "Epoch 16/100\n",
            "600/600 [==============================] - 6s 10ms/step - loss: 0.3988 - accuracy: 0.8872 - val_loss: 0.3738 - val_accuracy: 0.8946\n",
            "Epoch 17/100\n",
            "600/600 [==============================] - 4s 6ms/step - loss: 0.3827 - accuracy: 0.8916 - val_loss: 0.3596 - val_accuracy: 0.8965\n",
            "Epoch 18/100\n",
            "600/600 [==============================] - 4s 7ms/step - loss: 0.3690 - accuracy: 0.8953 - val_loss: 0.3482 - val_accuracy: 0.8997\n",
            "Epoch 19/100\n",
            "600/600 [==============================] - 4s 6ms/step - loss: 0.3568 - accuracy: 0.8989 - val_loss: 0.3375 - val_accuracy: 0.9037\n",
            "Epoch 20/100\n",
            "600/600 [==============================] - 4s 6ms/step - loss: 0.3461 - accuracy: 0.9017 - val_loss: 0.3284 - val_accuracy: 0.9054\n",
            "Epoch 21/100\n",
            "600/600 [==============================] - 4s 7ms/step - loss: 0.3365 - accuracy: 0.9041 - val_loss: 0.3196 - val_accuracy: 0.9070\n",
            "Epoch 22/100\n",
            "600/600 [==============================] - 6s 10ms/step - loss: 0.3277 - accuracy: 0.9064 - val_loss: 0.3116 - val_accuracy: 0.9082\n",
            "Epoch 23/100\n",
            "600/600 [==============================] - 4s 7ms/step - loss: 0.3198 - accuracy: 0.9087 - val_loss: 0.3044 - val_accuracy: 0.9111\n",
            "Epoch 24/100\n",
            "600/600 [==============================] - 4s 7ms/step - loss: 0.3127 - accuracy: 0.9103 - val_loss: 0.2981 - val_accuracy: 0.9126\n",
            "Epoch 25/100\n",
            "600/600 [==============================] - 4s 7ms/step - loss: 0.3060 - accuracy: 0.9126 - val_loss: 0.2925 - val_accuracy: 0.9142\n",
            "Epoch 26/100\n",
            "600/600 [==============================] - 4s 6ms/step - loss: 0.2996 - accuracy: 0.9144 - val_loss: 0.2882 - val_accuracy: 0.9145\n",
            "Epoch 27/100\n",
            "600/600 [==============================] - 4s 6ms/step - loss: 0.2940 - accuracy: 0.9154 - val_loss: 0.2820 - val_accuracy: 0.9171\n",
            "Epoch 28/100\n",
            "600/600 [==============================] - 4s 6ms/step - loss: 0.2885 - accuracy: 0.9172 - val_loss: 0.2765 - val_accuracy: 0.9182\n",
            "Epoch 29/100\n",
            "600/600 [==============================] - 4s 6ms/step - loss: 0.2833 - accuracy: 0.9190 - val_loss: 0.2717 - val_accuracy: 0.9193\n",
            "Epoch 30/100\n",
            "600/600 [==============================] - 4s 6ms/step - loss: 0.2785 - accuracy: 0.9198 - val_loss: 0.2679 - val_accuracy: 0.9201\n",
            "Epoch 31/100\n",
            "600/600 [==============================] - 4s 6ms/step - loss: 0.2739 - accuracy: 0.9212 - val_loss: 0.2638 - val_accuracy: 0.9215\n",
            "Epoch 32/100\n",
            "600/600 [==============================] - 5s 8ms/step - loss: 0.2694 - accuracy: 0.9226 - val_loss: 0.2599 - val_accuracy: 0.9231\n",
            "Epoch 33/100\n",
            "600/600 [==============================] - 4s 6ms/step - loss: 0.2653 - accuracy: 0.9234 - val_loss: 0.2570 - val_accuracy: 0.9245\n",
            "Epoch 34/100\n",
            "600/600 [==============================] - 4s 6ms/step - loss: 0.2613 - accuracy: 0.9247 - val_loss: 0.2528 - val_accuracy: 0.9251\n",
            "Epoch 35/100\n",
            "600/600 [==============================] - 4s 6ms/step - loss: 0.2575 - accuracy: 0.9262 - val_loss: 0.2490 - val_accuracy: 0.9270\n",
            "Epoch 36/100\n",
            "600/600 [==============================] - 4s 6ms/step - loss: 0.2539 - accuracy: 0.9273 - val_loss: 0.2461 - val_accuracy: 0.9262\n",
            "Epoch 37/100\n",
            "600/600 [==============================] - 4s 6ms/step - loss: 0.2504 - accuracy: 0.9279 - val_loss: 0.2426 - val_accuracy: 0.9288\n",
            "Epoch 38/100\n",
            "600/600 [==============================] - 4s 6ms/step - loss: 0.2469 - accuracy: 0.9290 - val_loss: 0.2404 - val_accuracy: 0.9285\n",
            "Epoch 39/100\n",
            "600/600 [==============================] - 4s 6ms/step - loss: 0.2436 - accuracy: 0.9297 - val_loss: 0.2375 - val_accuracy: 0.9294\n",
            "Epoch 40/100\n",
            "600/600 [==============================] - 4s 6ms/step - loss: 0.2405 - accuracy: 0.9306 - val_loss: 0.2345 - val_accuracy: 0.9306\n",
            "Epoch 41/100\n",
            "600/600 [==============================] - 4s 6ms/step - loss: 0.2374 - accuracy: 0.9319 - val_loss: 0.2314 - val_accuracy: 0.9320\n",
            "Epoch 42/100\n",
            "600/600 [==============================] - 4s 7ms/step - loss: 0.2344 - accuracy: 0.9324 - val_loss: 0.2285 - val_accuracy: 0.9327\n",
            "Epoch 43/100\n",
            "600/600 [==============================] - 5s 8ms/step - loss: 0.2315 - accuracy: 0.9338 - val_loss: 0.2265 - val_accuracy: 0.9339\n",
            "Epoch 44/100\n",
            "600/600 [==============================] - 4s 7ms/step - loss: 0.2287 - accuracy: 0.9344 - val_loss: 0.2240 - val_accuracy: 0.9345\n",
            "Epoch 45/100\n",
            "600/600 [==============================] - 4s 6ms/step - loss: 0.2260 - accuracy: 0.9349 - val_loss: 0.2215 - val_accuracy: 0.9355\n",
            "Epoch 46/100\n",
            "600/600 [==============================] - 4s 6ms/step - loss: 0.2232 - accuracy: 0.9361 - val_loss: 0.2186 - val_accuracy: 0.9359\n",
            "Epoch 47/100\n",
            "600/600 [==============================] - 4s 6ms/step - loss: 0.2208 - accuracy: 0.9365 - val_loss: 0.2176 - val_accuracy: 0.9367\n",
            "Epoch 48/100\n",
            "600/600 [==============================] - 4s 6ms/step - loss: 0.2183 - accuracy: 0.9370 - val_loss: 0.2149 - val_accuracy: 0.9379\n",
            "Epoch 49/100\n",
            "600/600 [==============================] - 4s 7ms/step - loss: 0.2159 - accuracy: 0.9378 - val_loss: 0.2122 - val_accuracy: 0.9378\n",
            "Epoch 50/100\n",
            "600/600 [==============================] - 6s 10ms/step - loss: 0.2134 - accuracy: 0.9384 - val_loss: 0.2096 - val_accuracy: 0.9389\n",
            "Epoch 51/100\n",
            "600/600 [==============================] - 5s 8ms/step - loss: 0.2110 - accuracy: 0.9394 - val_loss: 0.2090 - val_accuracy: 0.9391\n",
            "Epoch 52/100\n",
            "600/600 [==============================] - 5s 9ms/step - loss: 0.2088 - accuracy: 0.9401 - val_loss: 0.2062 - val_accuracy: 0.9409\n",
            "Epoch 53/100\n",
            "600/600 [==============================] - 4s 6ms/step - loss: 0.2065 - accuracy: 0.9405 - val_loss: 0.2043 - val_accuracy: 0.9412\n",
            "Epoch 54/100\n",
            "600/600 [==============================] - 4s 6ms/step - loss: 0.2044 - accuracy: 0.9412 - val_loss: 0.2013 - val_accuracy: 0.9426\n",
            "Epoch 55/100\n",
            "600/600 [==============================] - 4s 6ms/step - loss: 0.2023 - accuracy: 0.9415 - val_loss: 0.2002 - val_accuracy: 0.9424\n",
            "Epoch 56/100\n",
            "600/600 [==============================] - 4s 6ms/step - loss: 0.2001 - accuracy: 0.9423 - val_loss: 0.1983 - val_accuracy: 0.9423\n",
            "Epoch 57/100\n",
            "600/600 [==============================] - 4s 7ms/step - loss: 0.1981 - accuracy: 0.9427 - val_loss: 0.1968 - val_accuracy: 0.9421\n",
            "Epoch 58/100\n",
            "600/600 [==============================] - 4s 6ms/step - loss: 0.1961 - accuracy: 0.9433 - val_loss: 0.1953 - val_accuracy: 0.9423\n",
            "Epoch 59/100\n",
            "600/600 [==============================] - 4s 7ms/step - loss: 0.1941 - accuracy: 0.9440 - val_loss: 0.1932 - val_accuracy: 0.9437\n",
            "Epoch 60/100\n",
            "600/600 [==============================] - 4s 6ms/step - loss: 0.1921 - accuracy: 0.9445 - val_loss: 0.1920 - val_accuracy: 0.9438\n",
            "Epoch 61/100\n",
            "600/600 [==============================] - 4s 6ms/step - loss: 0.1904 - accuracy: 0.9446 - val_loss: 0.1896 - val_accuracy: 0.9449\n",
            "Epoch 62/100\n",
            "600/600 [==============================] - 5s 8ms/step - loss: 0.1885 - accuracy: 0.9453 - val_loss: 0.1893 - val_accuracy: 0.9429\n",
            "Epoch 63/100\n",
            "600/600 [==============================] - 4s 7ms/step - loss: 0.1868 - accuracy: 0.9458 - val_loss: 0.1862 - val_accuracy: 0.9449\n",
            "Epoch 64/100\n",
            "600/600 [==============================] - 4s 7ms/step - loss: 0.1847 - accuracy: 0.9463 - val_loss: 0.1850 - val_accuracy: 0.9455\n",
            "Epoch 65/100\n",
            "600/600 [==============================] - 4s 6ms/step - loss: 0.1832 - accuracy: 0.9467 - val_loss: 0.1833 - val_accuracy: 0.9457\n",
            "Epoch 66/100\n",
            "600/600 [==============================] - 4s 6ms/step - loss: 0.1814 - accuracy: 0.9471 - val_loss: 0.1819 - val_accuracy: 0.9463\n",
            "Epoch 67/100\n",
            "600/600 [==============================] - 4s 7ms/step - loss: 0.1797 - accuracy: 0.9475 - val_loss: 0.1808 - val_accuracy: 0.9464\n",
            "Epoch 68/100\n",
            "600/600 [==============================] - 4s 6ms/step - loss: 0.1780 - accuracy: 0.9480 - val_loss: 0.1793 - val_accuracy: 0.9466\n",
            "Epoch 69/100\n",
            "600/600 [==============================] - 4s 6ms/step - loss: 0.1764 - accuracy: 0.9486 - val_loss: 0.1783 - val_accuracy: 0.9470\n",
            "Epoch 70/100\n",
            "600/600 [==============================] - 4s 6ms/step - loss: 0.1747 - accuracy: 0.9488 - val_loss: 0.1769 - val_accuracy: 0.9470\n",
            "Epoch 71/100\n",
            "600/600 [==============================] - 4s 7ms/step - loss: 0.1733 - accuracy: 0.9493 - val_loss: 0.1750 - val_accuracy: 0.9473\n",
            "Epoch 72/100\n",
            "600/600 [==============================] - 6s 10ms/step - loss: 0.1718 - accuracy: 0.9494 - val_loss: 0.1734 - val_accuracy: 0.9488\n",
            "Epoch 73/100\n",
            "600/600 [==============================] - 5s 9ms/step - loss: 0.1702 - accuracy: 0.9499 - val_loss: 0.1728 - val_accuracy: 0.9487\n",
            "Epoch 74/100\n",
            "600/600 [==============================] - 7s 12ms/step - loss: 0.1687 - accuracy: 0.9507 - val_loss: 0.1708 - val_accuracy: 0.9484\n",
            "Epoch 75/100\n",
            "600/600 [==============================] - 5s 8ms/step - loss: 0.1672 - accuracy: 0.9512 - val_loss: 0.1702 - val_accuracy: 0.9484\n",
            "Epoch 76/100\n",
            "600/600 [==============================] - 4s 7ms/step - loss: 0.1659 - accuracy: 0.9515 - val_loss: 0.1688 - val_accuracy: 0.9490\n",
            "Epoch 77/100\n",
            "600/600 [==============================] - 4s 7ms/step - loss: 0.1644 - accuracy: 0.9517 - val_loss: 0.1677 - val_accuracy: 0.9492\n",
            "Epoch 78/100\n",
            "600/600 [==============================] - 4s 7ms/step - loss: 0.1630 - accuracy: 0.9522 - val_loss: 0.1663 - val_accuracy: 0.9498\n",
            "Epoch 79/100\n",
            "600/600 [==============================] - 4s 7ms/step - loss: 0.1615 - accuracy: 0.9528 - val_loss: 0.1655 - val_accuracy: 0.9497\n",
            "Epoch 80/100\n",
            "600/600 [==============================] - 7s 12ms/step - loss: 0.1603 - accuracy: 0.9536 - val_loss: 0.1634 - val_accuracy: 0.9511\n",
            "Epoch 81/100\n",
            "600/600 [==============================] - 4s 7ms/step - loss: 0.1589 - accuracy: 0.9538 - val_loss: 0.1625 - val_accuracy: 0.9518\n",
            "Epoch 82/100\n",
            "600/600 [==============================] - 4s 7ms/step - loss: 0.1576 - accuracy: 0.9540 - val_loss: 0.1617 - val_accuracy: 0.9513\n",
            "Epoch 83/100\n",
            "600/600 [==============================] - 4s 6ms/step - loss: 0.1562 - accuracy: 0.9544 - val_loss: 0.1599 - val_accuracy: 0.9514\n",
            "Epoch 84/100\n",
            "600/600 [==============================] - 4s 6ms/step - loss: 0.1551 - accuracy: 0.9549 - val_loss: 0.1596 - val_accuracy: 0.9512\n",
            "Epoch 85/100\n",
            "600/600 [==============================] - 4s 7ms/step - loss: 0.1537 - accuracy: 0.9552 - val_loss: 0.1583 - val_accuracy: 0.9523\n",
            "Epoch 86/100\n",
            "600/600 [==============================] - 6s 10ms/step - loss: 0.1526 - accuracy: 0.9556 - val_loss: 0.1575 - val_accuracy: 0.9524\n",
            "Epoch 87/100\n",
            "600/600 [==============================] - 6s 9ms/step - loss: 0.1512 - accuracy: 0.9560 - val_loss: 0.1562 - val_accuracy: 0.9529\n",
            "Epoch 88/100\n",
            "600/600 [==============================] - 4s 6ms/step - loss: 0.1501 - accuracy: 0.9563 - val_loss: 0.1546 - val_accuracy: 0.9531\n",
            "Epoch 89/100\n",
            "600/600 [==============================] - 5s 8ms/step - loss: 0.1489 - accuracy: 0.9567 - val_loss: 0.1544 - val_accuracy: 0.9530\n",
            "Epoch 90/100\n",
            "600/600 [==============================] - 4s 7ms/step - loss: 0.1478 - accuracy: 0.9569 - val_loss: 0.1531 - val_accuracy: 0.9537\n",
            "Epoch 91/100\n",
            "600/600 [==============================] - 4s 6ms/step - loss: 0.1465 - accuracy: 0.9572 - val_loss: 0.1526 - val_accuracy: 0.9542\n",
            "Epoch 92/100\n",
            "600/600 [==============================] - 4s 6ms/step - loss: 0.1454 - accuracy: 0.9574 - val_loss: 0.1514 - val_accuracy: 0.9543\n",
            "Epoch 93/100\n",
            "600/600 [==============================] - 4s 6ms/step - loss: 0.1443 - accuracy: 0.9578 - val_loss: 0.1506 - val_accuracy: 0.9542\n",
            "Epoch 94/100\n",
            "600/600 [==============================] - 4s 6ms/step - loss: 0.1432 - accuracy: 0.9582 - val_loss: 0.1498 - val_accuracy: 0.9547\n",
            "Epoch 95/100\n",
            "600/600 [==============================] - 4s 7ms/step - loss: 0.1422 - accuracy: 0.9587 - val_loss: 0.1488 - val_accuracy: 0.9552\n",
            "Epoch 96/100\n",
            "600/600 [==============================] - 6s 9ms/step - loss: 0.1410 - accuracy: 0.9592 - val_loss: 0.1486 - val_accuracy: 0.9557\n",
            "Epoch 97/100\n",
            "600/600 [==============================] - 4s 7ms/step - loss: 0.1401 - accuracy: 0.9592 - val_loss: 0.1473 - val_accuracy: 0.9571\n",
            "Epoch 98/100\n",
            "600/600 [==============================] - 4s 7ms/step - loss: 0.1390 - accuracy: 0.9597 - val_loss: 0.1463 - val_accuracy: 0.9564\n",
            "Epoch 99/100\n",
            "600/600 [==============================] - 4s 7ms/step - loss: 0.1379 - accuracy: 0.9599 - val_loss: 0.1451 - val_accuracy: 0.9569\n",
            "Epoch 100/100\n",
            "600/600 [==============================] - 4s 6ms/step - loss: 0.1370 - accuracy: 0.9602 - val_loss: 0.1448 - val_accuracy: 0.9561\n"
          ]
        }
      ]
    },
    {
      "cell_type": "code",
      "source": [
        "#7.visualiser les erreurs\n",
        "plt.rcParams[\"figure.figsize\"] = [6., 5.]\n",
        "plt.rcParams.update({'font.size': 14})\n",
        "plt.plot(histC.history[\"accuracy\"],c='b',label=\"Ens. d'apprentissage\")\n",
        "plt.plot(histC.history[\"val_accuracy\"],c='r',label=\"Ens. de test\")\n",
        "plt.xlabel(\"n_epoch\")\n",
        "plt.ylabel(\"Taux de classification\")\n",
        "plt.legend()\n",
        "plt.show()\n"
      ],
      "metadata": {
        "colab": {
          "base_uri": "https://localhost:8080/",
          "height": 347
        },
        "id": "euCh6NeJDMcg",
        "outputId": "12f0f85b-816c-4770-a51e-14d945387967"
      },
      "execution_count": 11,
      "outputs": [
        {
          "output_type": "display_data",
          "data": {
            "text/plain": [
              "<Figure size 432x360 with 1 Axes>"
            ],
            "image/png": "[encoded data removed]"
          },
          "metadata": {
            "needs_background": "light"
          }
        }
      ]
    },
    {
      "cell_type": "code",
      "source": [
        "#8. Evaluer vos modèle sur l’ensemble de test\n",
        "\n",
        "plt.rcParams[\"figure.figsize\"] = [9., 9.]\n",
        "plt.rcParams[\"figure.autolayout\"] = True\n",
        "plt.rcParams.update({'font.size': 12})\n",
        "fig, axs = plt.subplots(nrows=3, ncols=3)\n",
        "axs = axs.flatten()\n",
        "y_pred=modelC.predict(x_test_v)\n",
        "color=\"red\"\n",
        "for ax,j in zip(axs, range(9)):\n",
        "  ax.axis(\"off\")\n",
        "  ax.imshow(x_test[j], cmap='gray')\n",
        "if (y_test[j]==np.argmax(y_pred[j])):\n",
        "  color=\"green\"\n",
        "else:\n",
        "  color=\"red\"\n",
        "\n",
        "ax.set_title(\"V.Réelle:\"+str(y_test[j])+\"Prédiction:\"+str(np.argmax(y_pred[j])),c=color)\n",
        "plt.show()"
      ],
      "metadata": {
        "colab": {
          "base_uri": "https://localhost:8080/",
          "height": 670
        },
        "id": "HAwIoSOfBXX7",
        "outputId": "bfcbc06b-d5e3-49ab-9b5e-bd6612bc3bcc"
      },
      "execution_count": 12,
      "outputs": [
        {
          "output_type": "stream",
          "name": "stdout",
          "text": [
            "313/313 [==============================] - 1s 2ms/step\n"
          ]
        },
        {
          "output_type": "display_data",
          "data": {
            "text/plain": [
              "<Figure size 648x648 with 9 Axes>"
            ],
            "image/png": "[encoded data removed]"
          },
          "metadata": {
            "needs_background": "light"
          }
        }
      ]
    },
    {
      "cell_type": "code",
      "source": [
        "indice_exemple=1\n",
        "image_test1=x_test_v[indice_exemple]\n",
        "predictionProba =modelC.predict(image_test1.reshape(1,-1))\n",
        "predictionClass=np.argmax(predictionProba)\n",
        "fig, (ax1, ax2) = plt.subplots(1, 2, figsize=(12,6))\n",
        "ax1.imshow(x_test[indice_exemple], cmap='gray')\n",
        "ax1.axis(\"off\")\n",
        "y_pos = np.arange(10)\n",
        "barlist=ax2.barh(y_pos,predictionProba[0])\n",
        "if(predictionClass==y_test[indice_exemple]):\n",
        "  barlist[int(predictionClass)].set_color('g')\n",
        "else:\n",
        "  barlist[int(predictionClass)].set_color('r')\n",
        "plt.yticks(y_pos, y_pos, fontsize=20)\n",
        "plt.show()"
      ],
      "metadata": {
        "colab": {
          "base_uri": "https://localhost:8080/",
          "height": 454
        },
        "id": "UWI7Ddd6CecQ",
        "outputId": "5ef33c05-4079-436f-e172-09bd7a85b44a"
      },
      "execution_count": 13,
      "outputs": [
        {
          "output_type": "stream",
          "name": "stdout",
          "text": [
            "1/1 [==============================] - 0s 20ms/step\n"
          ]
        },
        {
          "output_type": "display_data",
          "data": {
            "text/plain": [
              "<Figure size 864x432 with 2 Axes>"
            ],
            "image/png": "[encoded data removed]"
          },
          "metadata": {
            "needs_background": "light"
          }
        }
      ]
    },
    {
      "cell_type": "code",
      "source": [],
      "metadata": {
        "id": "NrEAVnGwDfV2"
      },
      "execution_count": null,
      "outputs": []
    },
    {
      "cell_type": "code",
      "source": [
        "#8.evaluer le modèles sur ensemble de test\n",
        "test_loss_modelC, test_acc_modelC = modelC.evaluate(x_test_v,  y_test_c, verbose=2)\n"
      ],
      "metadata": {
        "colab": {
          "base_uri": "https://localhost:8080/"
        },
        "id": "oue_xsEjU5sW",
        "outputId": "539039d2-be5a-442e-a464-51ed691f86df"
      },
      "execution_count": null,
      "outputs": [
        {
          "output_type": "stream",
          "name": "stdout",
          "text": [
            "313/313 - 1s - loss: 0.1528 - accuracy: 0.9561 - 874ms/epoch - 3ms/step\n"
          ]
        }
      ]
    },
    {
      "cell_type": "code",
      "source": [
        "pred_C= modelC.predict(x_test_v) \n",
        "pred_C= np.argmax(pred_C, axis = 1)[:50] \n",
        "label_C= np.argmax(y_test_c,axis = 1)[:50] \n",
        "\n",
        "print(pred_C) \n",
        "print(label_C)"
      ],
      "metadata": {
        "colab": {
          "base_uri": "https://localhost:8080/"
        },
        "id": "r3So6R3NVBl4",
        "outputId": "5c79e2d9-9d13-451a-8860-4449778b8e00"
      },
      "execution_count": null,
      "outputs": [
        {
          "output_type": "stream",
          "name": "stdout",
          "text": [
            "313/313 [==============================] - 1s 2ms/step\n",
            "[7 2 1 0 4 1 4 9 6 9 0 6 9 0 1 5 9 7 3 4 9 6 6 5 4 0 7 4 0 1 3 1 3 6 7 2 7\n",
            " 1 2 1 1 7 4 2 3 5 1 2 4 4]\n",
            "[7 2 1 0 4 1 4 9 5 9 0 6 9 0 1 5 9 7 3 4 9 6 6 5 4 0 7 4 0 1 3 1 3 4 7 2 7\n",
            " 1 2 1 1 7 4 2 3 5 1 2 4 4]\n"
          ]
        }
      ]
    },
    {
      "cell_type": "markdown",
      "source": [
        "**1. Lasso**"
      ],
      "metadata": {
        "id": "mJA5346wtUIu"
      }
    },
    {
      "cell_type": "code",
      "source": [
        "def lasso_reg(lambd):\n",
        "  inp=Input(shape=(784,)) #784 pixel avec , étiquette \n",
        "  c1=Dense(200, kernel_regularizer=l1(lambd),activation=\"relu\") (inp) #les valeurs de neurons pour chaque couche est donné dans l'exercice\n",
        "  c2=Dense(100, kernel_regularizer=l1(lambd),activation=\"relu\") (c1) \n",
        "  c3=Dense(60, kernel_regularizer=l1(lambd),activation=\"relu\") (c2) \n",
        "  c4=Dense(30, kernel_regularizer=l1(lambd),activation=\"relu\") (c3) \n",
        "  outp=Dense(10,activation=\"softmax\") (c4) \n",
        "  model = Model (inp,outp)\n",
        "  model.summary()\n",
        "  return model"
      ],
      "metadata": {
        "id": "-KggX7q8tTYV"
      },
      "execution_count": 15,
      "outputs": []
    },
    {
      "cell_type": "code",
      "source": [
        "optimAd=tf.keras.optimizers.Adam(learning_rate=0.01)\n",
        "lasso=lasso_reg(lambd=0.001)\n",
        "lasso.compile(loss=fc, optimizer=optimAd,metrics=[\"accuracy\"])\n",
        "hist_lasso=lasso.fit(x_train_v,y_train_c, validation_data=(x_test_v,y_test_c), epochs=100, batch_size=100, shuffle=True)"
      ],
      "metadata": {
        "id": "qTh9J6hl3TDr",
        "colab": {
          "base_uri": "https://localhost:8080/"
        },
        "outputId": "5015ee1f-cffc-4244-9677-95f6327fd848"
      },
      "execution_count": 61,
      "outputs": [
        {
          "output_type": "stream",
          "name": "stdout",
          "text": [
            "Model: \"model_11\"\n",
            "_________________________________________________________________\n",
            " Layer (type)                Output Shape              Param #   \n",
            "=================================================================\n",
            " input_12 (InputLayer)       [(None, 784)]             0         \n",
            "                                                                 \n",
            " dense_55 (Dense)            (None, 200)               157000    \n",
            "                                                                 \n",
            " dense_56 (Dense)            (None, 100)               20100     \n",
            "                                                                 \n",
            " dense_57 (Dense)            (None, 60)                6060      \n",
            "                                                                 \n",
            " dense_58 (Dense)            (None, 30)                1830      \n",
            "                                                                 \n",
            " dense_59 (Dense)            (None, 10)                310       \n",
            "                                                                 \n",
            "=================================================================\n",
            "Total params: 185,300\n",
            "Trainable params: 185,300\n",
            "Non-trainable params: 0\n",
            "_________________________________________________________________\n",
            "Epoch 1/100\n",
            "600/600 [==============================] - 6s 9ms/step - loss: 1.3641 - accuracy: 0.8655 - val_loss: 0.9419 - val_accuracy: 0.9223\n",
            "Epoch 2/100\n",
            "600/600 [==============================] - 5s 8ms/step - loss: 0.9364 - accuracy: 0.9100 - val_loss: 0.8960 - val_accuracy: 0.9180\n",
            "Epoch 3/100\n",
            "600/600 [==============================] - 5s 8ms/step - loss: 0.8959 - accuracy: 0.9125 - val_loss: 0.8911 - val_accuracy: 0.9130\n",
            "Epoch 4/100\n",
            "600/600 [==============================] - 5s 8ms/step - loss: 0.8572 - accuracy: 0.9157 - val_loss: 0.8471 - val_accuracy: 0.9206\n",
            "Epoch 5/100\n",
            "600/600 [==============================] - 5s 8ms/step - loss: 0.8445 - accuracy: 0.9182 - val_loss: 0.8246 - val_accuracy: 0.9225\n",
            "Epoch 6/100\n",
            "600/600 [==============================] - 5s 8ms/step - loss: 0.8262 - accuracy: 0.9216 - val_loss: 0.8309 - val_accuracy: 0.9166\n",
            "Epoch 7/100\n",
            "600/600 [==============================] - 6s 10ms/step - loss: 0.8218 - accuracy: 0.9227 - val_loss: 0.7621 - val_accuracy: 0.9345\n",
            "Epoch 8/100\n",
            "600/600 [==============================] - 5s 8ms/step - loss: 0.8098 - accuracy: 0.9229 - val_loss: 0.7905 - val_accuracy: 0.9285\n",
            "Epoch 9/100\n",
            "600/600 [==============================] - 5s 8ms/step - loss: 0.8104 - accuracy: 0.9227 - val_loss: 0.7975 - val_accuracy: 0.9232\n",
            "Epoch 10/100\n",
            "600/600 [==============================] - 5s 8ms/step - loss: 0.7994 - accuracy: 0.9225 - val_loss: 0.7518 - val_accuracy: 0.9334\n",
            "Epoch 11/100\n",
            "600/600 [==============================] - 5s 8ms/step - loss: 0.7989 - accuracy: 0.9227 - val_loss: 0.7469 - val_accuracy: 0.9380\n",
            "Epoch 12/100\n",
            "600/600 [==============================] - 5s 8ms/step - loss: 0.7894 - accuracy: 0.9238 - val_loss: 0.7713 - val_accuracy: 0.9312\n",
            "Epoch 13/100\n",
            "600/600 [==============================] - 5s 8ms/step - loss: 0.7920 - accuracy: 0.9234 - val_loss: 0.7871 - val_accuracy: 0.9190\n",
            "Epoch 14/100\n",
            "600/600 [==============================] - 6s 10ms/step - loss: 0.7903 - accuracy: 0.9229 - val_loss: 0.8089 - val_accuracy: 0.9238\n",
            "Epoch 15/100\n",
            "600/600 [==============================] - 5s 8ms/step - loss: 0.7789 - accuracy: 0.9255 - val_loss: 0.7818 - val_accuracy: 0.9261\n",
            "Epoch 16/100\n",
            "600/600 [==============================] - 5s 8ms/step - loss: 0.7947 - accuracy: 0.9235 - val_loss: 0.7881 - val_accuracy: 0.9293\n",
            "Epoch 17/100\n",
            "600/600 [==============================] - 5s 8ms/step - loss: 0.7807 - accuracy: 0.9250 - val_loss: 0.8374 - val_accuracy: 0.9114\n",
            "Epoch 18/100\n",
            "600/600 [==============================] - 5s 8ms/step - loss: 0.7853 - accuracy: 0.9227 - val_loss: 0.8075 - val_accuracy: 0.9242\n",
            "Epoch 19/100\n",
            "600/600 [==============================] - 5s 8ms/step - loss: 0.7905 - accuracy: 0.9234 - val_loss: 0.7424 - val_accuracy: 0.9362\n",
            "Epoch 20/100\n",
            "600/600 [==============================] - 5s 8ms/step - loss: 0.7905 - accuracy: 0.9241 - val_loss: 0.7550 - val_accuracy: 0.9312\n",
            "Epoch 21/100\n",
            "600/600 [==============================] - 5s 8ms/step - loss: 0.7875 - accuracy: 0.9242 - val_loss: 0.7556 - val_accuracy: 0.9346\n",
            "Epoch 22/100\n",
            "600/600 [==============================] - 6s 10ms/step - loss: 0.7844 - accuracy: 0.9247 - val_loss: 0.7785 - val_accuracy: 0.9316\n",
            "Epoch 23/100\n",
            "600/600 [==============================] - 5s 8ms/step - loss: 0.7799 - accuracy: 0.9243 - val_loss: 0.7802 - val_accuracy: 0.9205\n",
            "Epoch 24/100\n",
            "600/600 [==============================] - 5s 8ms/step - loss: 0.7879 - accuracy: 0.9226 - val_loss: 0.7622 - val_accuracy: 0.9340\n",
            "Epoch 25/100\n",
            "600/600 [==============================] - 5s 8ms/step - loss: 0.7800 - accuracy: 0.9250 - val_loss: 0.7894 - val_accuracy: 0.9178\n",
            "Epoch 26/100\n",
            "600/600 [==============================] - 5s 8ms/step - loss: 0.7927 - accuracy: 0.9216 - val_loss: 0.7731 - val_accuracy: 0.9274\n",
            "Epoch 27/100\n",
            "600/600 [==============================] - 5s 8ms/step - loss: 0.7769 - accuracy: 0.9244 - val_loss: 0.7424 - val_accuracy: 0.9353\n",
            "Epoch 28/100\n",
            "600/600 [==============================] - 5s 8ms/step - loss: 0.7798 - accuracy: 0.9243 - val_loss: 0.7714 - val_accuracy: 0.9357\n",
            "Epoch 29/100\n",
            "600/600 [==============================] - 6s 10ms/step - loss: 0.7705 - accuracy: 0.9262 - val_loss: 0.7405 - val_accuracy: 0.9376\n",
            "Epoch 30/100\n",
            "600/600 [==============================] - 5s 8ms/step - loss: 0.7833 - accuracy: 0.9230 - val_loss: 0.7588 - val_accuracy: 0.9294\n",
            "Epoch 31/100\n",
            "600/600 [==============================] - 5s 8ms/step - loss: 0.7797 - accuracy: 0.9233 - val_loss: 0.7458 - val_accuracy: 0.9314\n",
            "Epoch 32/100\n",
            "600/600 [==============================] - 5s 8ms/step - loss: 0.7780 - accuracy: 0.9242 - val_loss: 0.7457 - val_accuracy: 0.9340\n",
            "Epoch 33/100\n",
            "600/600 [==============================] - 5s 8ms/step - loss: 0.7838 - accuracy: 0.9219 - val_loss: 0.8477 - val_accuracy: 0.8999\n",
            "Epoch 34/100\n",
            "600/600 [==============================] - 5s 8ms/step - loss: 0.7776 - accuracy: 0.9235 - val_loss: 0.7450 - val_accuracy: 0.9288\n",
            "Epoch 35/100\n",
            "600/600 [==============================] - 5s 8ms/step - loss: 0.7806 - accuracy: 0.9231 - val_loss: 0.7637 - val_accuracy: 0.9328\n",
            "Epoch 36/100\n",
            "600/600 [==============================] - 5s 8ms/step - loss: 0.7732 - accuracy: 0.9254 - val_loss: 0.7881 - val_accuracy: 0.9247\n",
            "Epoch 37/100\n",
            "600/600 [==============================] - 6s 9ms/step - loss: 0.7741 - accuracy: 0.9245 - val_loss: 0.7782 - val_accuracy: 0.9243\n",
            "Epoch 38/100\n",
            "600/600 [==============================] - 5s 8ms/step - loss: 0.7746 - accuracy: 0.9255 - val_loss: 0.7238 - val_accuracy: 0.9352\n",
            "Epoch 39/100\n",
            "600/600 [==============================] - 5s 8ms/step - loss: 0.7766 - accuracy: 0.9230 - val_loss: 0.7521 - val_accuracy: 0.9323\n",
            "Epoch 40/100\n",
            "600/600 [==============================] - 5s 8ms/step - loss: 0.7723 - accuracy: 0.9253 - val_loss: 0.7686 - val_accuracy: 0.9194\n",
            "Epoch 41/100\n",
            "600/600 [==============================] - 5s 8ms/step - loss: 0.7800 - accuracy: 0.9221 - val_loss: 0.7557 - val_accuracy: 0.9297\n",
            "Epoch 42/100\n",
            "600/600 [==============================] - 5s 8ms/step - loss: 0.7622 - accuracy: 0.9238 - val_loss: 0.8296 - val_accuracy: 0.9010\n",
            "Epoch 43/100\n",
            "600/600 [==============================] - 5s 8ms/step - loss: 0.7639 - accuracy: 0.9238 - val_loss: 0.7600 - val_accuracy: 0.9255\n",
            "Epoch 44/100\n",
            "600/600 [==============================] - 5s 8ms/step - loss: 0.7698 - accuracy: 0.9237 - val_loss: 0.7329 - val_accuracy: 0.9387\n",
            "Epoch 45/100\n",
            "600/600 [==============================] - 5s 9ms/step - loss: 0.7642 - accuracy: 0.9244 - val_loss: 0.7614 - val_accuracy: 0.9283\n",
            "Epoch 46/100\n",
            "600/600 [==============================] - 5s 8ms/step - loss: 0.7670 - accuracy: 0.9238 - val_loss: 0.7958 - val_accuracy: 0.9154\n",
            "Epoch 47/100\n",
            "600/600 [==============================] - 5s 8ms/step - loss: 0.7741 - accuracy: 0.9218 - val_loss: 0.7673 - val_accuracy: 0.9276\n",
            "Epoch 48/100\n",
            "600/600 [==============================] - 5s 8ms/step - loss: 0.7667 - accuracy: 0.9235 - val_loss: 0.7412 - val_accuracy: 0.9309\n",
            "Epoch 49/100\n",
            "600/600 [==============================] - 5s 8ms/step - loss: 0.7661 - accuracy: 0.9242 - val_loss: 0.8105 - val_accuracy: 0.9154\n",
            "Epoch 50/100\n",
            "600/600 [==============================] - 5s 8ms/step - loss: 0.7725 - accuracy: 0.9226 - val_loss: 0.7526 - val_accuracy: 0.9281\n",
            "Epoch 51/100\n",
            "600/600 [==============================] - 5s 8ms/step - loss: 0.7645 - accuracy: 0.9235 - val_loss: 0.7882 - val_accuracy: 0.9110\n",
            "Epoch 52/100\n",
            "600/600 [==============================] - 5s 9ms/step - loss: 0.7685 - accuracy: 0.9236 - val_loss: 0.7503 - val_accuracy: 0.9323\n",
            "Epoch 53/100\n",
            "600/600 [==============================] - 5s 9ms/step - loss: 0.7595 - accuracy: 0.9251 - val_loss: 0.7416 - val_accuracy: 0.9348\n",
            "Epoch 54/100\n",
            "600/600 [==============================] - 5s 8ms/step - loss: 0.7669 - accuracy: 0.9240 - val_loss: 0.7565 - val_accuracy: 0.9308\n",
            "Epoch 55/100\n",
            "600/600 [==============================] - 5s 8ms/step - loss: 0.7646 - accuracy: 0.9248 - val_loss: 0.7605 - val_accuracy: 0.9222\n",
            "Epoch 56/100\n",
            "600/600 [==============================] - 5s 8ms/step - loss: 0.7680 - accuracy: 0.9236 - val_loss: 0.7557 - val_accuracy: 0.9262\n",
            "Epoch 57/100\n",
            "600/600 [==============================] - 5s 8ms/step - loss: 0.7545 - accuracy: 0.9251 - val_loss: 0.7131 - val_accuracy: 0.9378\n",
            "Epoch 58/100\n",
            "600/600 [==============================] - 5s 8ms/step - loss: 0.7679 - accuracy: 0.9239 - val_loss: 0.7332 - val_accuracy: 0.9335\n",
            "Epoch 59/100\n",
            "600/600 [==============================] - 5s 8ms/step - loss: 0.7627 - accuracy: 0.9249 - val_loss: 0.7403 - val_accuracy: 0.9329\n",
            "Epoch 60/100\n",
            "600/600 [==============================] - 6s 10ms/step - loss: 0.7722 - accuracy: 0.9224 - val_loss: 0.7528 - val_accuracy: 0.9327\n",
            "Epoch 61/100\n",
            "600/600 [==============================] - 5s 8ms/step - loss: 0.7712 - accuracy: 0.9230 - val_loss: 0.7401 - val_accuracy: 0.9322\n",
            "Epoch 62/100\n",
            "600/600 [==============================] - 5s 8ms/step - loss: 0.7606 - accuracy: 0.9256 - val_loss: 0.7694 - val_accuracy: 0.9266\n",
            "Epoch 63/100\n",
            "600/600 [==============================] - 5s 8ms/step - loss: 0.7640 - accuracy: 0.9240 - val_loss: 0.7834 - val_accuracy: 0.9192\n",
            "Epoch 64/100\n",
            "600/600 [==============================] - 5s 8ms/step - loss: 0.7676 - accuracy: 0.9231 - val_loss: 0.7415 - val_accuracy: 0.9320\n",
            "Epoch 65/100\n",
            "600/600 [==============================] - 5s 8ms/step - loss: 0.7579 - accuracy: 0.9263 - val_loss: 0.7294 - val_accuracy: 0.9375\n",
            "Epoch 66/100\n",
            "600/600 [==============================] - 5s 8ms/step - loss: 0.7666 - accuracy: 0.9237 - val_loss: 0.7714 - val_accuracy: 0.9227\n",
            "Epoch 67/100\n",
            "600/600 [==============================] - 6s 9ms/step - loss: 0.7697 - accuracy: 0.9244 - val_loss: 0.8024 - val_accuracy: 0.9153\n",
            "Epoch 68/100\n",
            "600/600 [==============================] - 5s 9ms/step - loss: 0.7689 - accuracy: 0.9247 - val_loss: 0.7314 - val_accuracy: 0.9342\n",
            "Epoch 69/100\n",
            "600/600 [==============================] - 5s 8ms/step - loss: 0.7588 - accuracy: 0.9263 - val_loss: 0.7393 - val_accuracy: 0.9306\n",
            "Epoch 70/100\n",
            "600/600 [==============================] - 5s 9ms/step - loss: 0.7619 - accuracy: 0.9262 - val_loss: 0.7515 - val_accuracy: 0.9281\n",
            "Epoch 71/100\n",
            "600/600 [==============================] - 5s 9ms/step - loss: 0.7703 - accuracy: 0.9235 - val_loss: 0.7558 - val_accuracy: 0.9326\n",
            "Epoch 72/100\n",
            "600/600 [==============================] - 6s 10ms/step - loss: 0.7536 - accuracy: 0.9265 - val_loss: 0.7831 - val_accuracy: 0.9213\n",
            "Epoch 73/100\n",
            "600/600 [==============================] - 6s 10ms/step - loss: 0.7682 - accuracy: 0.9227 - val_loss: 0.7498 - val_accuracy: 0.9332\n",
            "Epoch 74/100\n",
            "600/600 [==============================] - 7s 11ms/step - loss: 0.7662 - accuracy: 0.9241 - val_loss: 0.7275 - val_accuracy: 0.9354\n",
            "Epoch 75/100\n",
            "600/600 [==============================] - 6s 10ms/step - loss: 0.7665 - accuracy: 0.9254 - val_loss: 0.7762 - val_accuracy: 0.9199\n",
            "Epoch 76/100\n",
            "600/600 [==============================] - 6s 10ms/step - loss: 0.7484 - accuracy: 0.9275 - val_loss: 0.7938 - val_accuracy: 0.9109\n",
            "Epoch 77/100\n",
            "600/600 [==============================] - 6s 10ms/step - loss: 0.7711 - accuracy: 0.9227 - val_loss: 0.7211 - val_accuracy: 0.9360\n",
            "Epoch 78/100\n",
            "600/600 [==============================] - 6s 10ms/step - loss: 0.7584 - accuracy: 0.9260 - val_loss: 0.7420 - val_accuracy: 0.9319\n",
            "Epoch 79/100\n",
            "600/600 [==============================] - 6s 10ms/step - loss: 0.7707 - accuracy: 0.9239 - val_loss: 0.7049 - val_accuracy: 0.9423\n",
            "Epoch 80/100\n",
            "600/600 [==============================] - 6s 10ms/step - loss: 0.7607 - accuracy: 0.9256 - val_loss: 0.7940 - val_accuracy: 0.9208\n",
            "Epoch 81/100\n",
            "600/600 [==============================] - 7s 12ms/step - loss: 0.7600 - accuracy: 0.9255 - val_loss: 0.7629 - val_accuracy: 0.9270\n",
            "Epoch 82/100\n",
            "600/600 [==============================] - 6s 11ms/step - loss: 0.7664 - accuracy: 0.9230 - val_loss: 0.7226 - val_accuracy: 0.9329\n",
            "Epoch 83/100\n",
            "600/600 [==============================] - 6s 10ms/step - loss: 0.7709 - accuracy: 0.9230 - val_loss: 0.7220 - val_accuracy: 0.9357\n",
            "Epoch 84/100\n",
            "600/600 [==============================] - 6s 10ms/step - loss: 0.7623 - accuracy: 0.9256 - val_loss: 0.8027 - val_accuracy: 0.9142\n",
            "Epoch 85/100\n",
            "600/600 [==============================] - 6s 9ms/step - loss: 0.7577 - accuracy: 0.9262 - val_loss: 0.7523 - val_accuracy: 0.9285\n",
            "Epoch 86/100\n",
            "600/600 [==============================] - 6s 9ms/step - loss: 0.7624 - accuracy: 0.9250 - val_loss: 0.7555 - val_accuracy: 0.9320\n",
            "Epoch 87/100\n",
            "600/600 [==============================] - 6s 10ms/step - loss: 0.7634 - accuracy: 0.9236 - val_loss: 0.7686 - val_accuracy: 0.9259\n",
            "Epoch 88/100\n",
            "600/600 [==============================] - 6s 10ms/step - loss: 0.7564 - accuracy: 0.9264 - val_loss: 0.7422 - val_accuracy: 0.9353\n",
            "Epoch 89/100\n",
            "600/600 [==============================] - 6s 9ms/step - loss: 0.7703 - accuracy: 0.9251 - val_loss: 0.7444 - val_accuracy: 0.9302\n",
            "Epoch 90/100\n",
            "600/600 [==============================] - 5s 9ms/step - loss: 0.7541 - accuracy: 0.9257 - val_loss: 0.7295 - val_accuracy: 0.9347\n",
            "Epoch 91/100\n",
            "600/600 [==============================] - 6s 9ms/step - loss: 0.7564 - accuracy: 0.9264 - val_loss: 0.6927 - val_accuracy: 0.9405\n",
            "Epoch 92/100\n",
            "600/600 [==============================] - 6s 9ms/step - loss: 0.7620 - accuracy: 0.9243 - val_loss: 0.7557 - val_accuracy: 0.9319\n",
            "Epoch 93/100\n",
            "600/600 [==============================] - 6s 10ms/step - loss: 0.7647 - accuracy: 0.9255 - val_loss: 0.7624 - val_accuracy: 0.9249\n",
            "Epoch 94/100\n",
            "600/600 [==============================] - 5s 9ms/step - loss: 0.7569 - accuracy: 0.9262 - val_loss: 0.7554 - val_accuracy: 0.9255\n",
            "Epoch 95/100\n",
            "600/600 [==============================] - 5s 8ms/step - loss: 0.7583 - accuracy: 0.9256 - val_loss: 0.7398 - val_accuracy: 0.9361\n",
            "Epoch 96/100\n",
            "600/600 [==============================] - 5s 9ms/step - loss: 0.7625 - accuracy: 0.9253 - val_loss: 0.8218 - val_accuracy: 0.9108\n",
            "Epoch 97/100\n",
            "600/600 [==============================] - 5s 9ms/step - loss: 0.7578 - accuracy: 0.9254 - val_loss: 0.7625 - val_accuracy: 0.9192\n",
            "Epoch 98/100\n",
            "600/600 [==============================] - 5s 9ms/step - loss: 0.7591 - accuracy: 0.9244 - val_loss: 0.7403 - val_accuracy: 0.9336\n",
            "Epoch 99/100\n",
            "600/600 [==============================] - 5s 9ms/step - loss: 0.7627 - accuracy: 0.9247 - val_loss: 0.7379 - val_accuracy: 0.9335\n",
            "Epoch 100/100\n",
            "600/600 [==============================] - 6s 10ms/step - loss: 0.7693 - accuracy: 0.9243 - val_loss: 0.7668 - val_accuracy: 0.9205\n"
          ]
        }
      ]
    },
    {
      "cell_type": "code",
      "source": [
        "#7.visualiser les erreurs\n",
        "plt.rcParams[\"figure.figsize\"] = [6., 5.]\n",
        "plt.rcParams.update({'font.size': 14})\n",
        "plt.plot(hist_lasso.history[\"accuracy\"],c='b',label=\"Ens. d'apprentissage\")\n",
        "plt.plot(hist_lasso.history[\"val_accuracy\"],c='r',label=\"Ens. de test\")\n",
        "plt.xlabel(\"n_epoch\")\n",
        "plt.ylabel(\"Taux de classification\")\n",
        "plt.legend()\n",
        "plt.show()\n"
      ],
      "metadata": {
        "colab": {
          "base_uri": "https://localhost:8080/",
          "height": 361
        },
        "id": "Wq5PmaarEcel",
        "outputId": "f77b174c-867b-405d-a539-4301859f00a0"
      },
      "execution_count": 62,
      "outputs": [
        {
          "output_type": "display_data",
          "data": {
            "text/plain": [
              "<Figure size 432x360 with 1 Axes>"
            ],
            "image/png": "[encoded data removed]"
          },
          "metadata": {
            "needs_background": "light"
          }
        }
      ]
    },
    {
      "cell_type": "code",
      "source": [
        "#8. Evaluer vos modèle sur l’ensemble de test\n",
        "\n",
        "plt.rcParams[\"figure.figsize\"] = [9., 9.]\n",
        "plt.rcParams[\"figure.autolayout\"] = True\n",
        "plt.rcParams.update({'font.size': 12})\n",
        "fig, axs = plt.subplots(nrows=3, ncols=3)\n",
        "axs = axs.flatten()\n",
        "y_pred_lasso=lasso.predict(x_test_v)\n",
        "color=\"red\"\n",
        "for ax,j in zip(axs, range(9)):\n",
        "  ax.axis(\"off\")\n",
        "  ax.imshow(x_test[j], cmap='gray')\n",
        "if (y_test[j]==np.argmax(y_pred_lasso[j])):\n",
        "  color=\"green\"\n",
        "else:\n",
        "  color=\"red\"\n",
        "\n",
        "ax.set_title(\"V.Réelle:\"+str(y_test[j])+\"Prédiction:\"+str(np.argmax(y_pred_lasso[j])),c=color)\n",
        "plt.show()"
      ],
      "metadata": {
        "colab": {
          "base_uri": "https://localhost:8080/",
          "height": 670
        },
        "id": "cKAAG1jzEdAp",
        "outputId": "6001582e-5cf8-4216-ea92-3805ab6caf71"
      },
      "execution_count": 63,
      "outputs": [
        {
          "output_type": "stream",
          "name": "stdout",
          "text": [
            "313/313 [==============================] - 1s 3ms/step\n"
          ]
        },
        {
          "output_type": "display_data",
          "data": {
            "text/plain": [
              "<Figure size 648x648 with 9 Axes>"
            ],
            "image/png": "[encoded data removed]"
          },
          "metadata": {
            "needs_background": "light"
          }
        }
      ]
    },
    {
      "cell_type": "code",
      "source": [
        "indice_exemple=1\n",
        "image_test1=x_test_v[indice_exemple]\n",
        "predictionProba =lasso.predict(image_test1.reshape(1,-1))\n",
        "predictionClass=np.argmax(predictionProba)\n",
        "fig, (ax1, ax2) = plt.subplots(1, 2, figsize=(12,6))\n",
        "ax1.imshow(x_test[indice_exemple], cmap='gray')\n",
        "ax1.axis(\"off\")\n",
        "y_pos = np.arange(10)\n",
        "barlist=ax2.barh(y_pos,predictionProba[0])\n",
        "if(predictionClass==y_test[indice_exemple]):\n",
        "  barlist[int(predictionClass)].set_color('g')\n",
        "else:\n",
        "  barlist[int(predictionClass)].set_color('r')\n",
        "plt.yticks(y_pos, y_pos, fontsize=20)\n",
        "plt.show()"
      ],
      "metadata": {
        "colab": {
          "base_uri": "https://localhost:8080/",
          "height": 454
        },
        "id": "aWphJLqNEddT",
        "outputId": "a5b926bb-91bb-4d05-ea62-6714d5976a97"
      },
      "execution_count": 64,
      "outputs": [
        {
          "output_type": "stream",
          "name": "stdout",
          "text": [
            "1/1 [==============================] - 0s 20ms/step\n"
          ]
        },
        {
          "output_type": "display_data",
          "data": {
            "text/plain": [
              "<Figure size 864x432 with 2 Axes>"
            ],
            "image/png": "[encoded data removed]"
          },
          "metadata": {
            "needs_background": "light"
          }
        }
      ]
    },
    {
      "cell_type": "code",
      "source": [
        "test_loss_lasso, test_acc_lasso = lasso.evaluate(x_test_v,  y_test_c, verbose=2)"
      ],
      "metadata": {
        "colab": {
          "base_uri": "https://localhost:8080/"
        },
        "id": "-M9V27bd8tdi",
        "outputId": "828f0229-c3e9-4d18-8e2d-32008a5d1039"
      },
      "execution_count": 65,
      "outputs": [
        {
          "output_type": "stream",
          "name": "stdout",
          "text": [
            "313/313 - 1s - loss: 0.7668 - accuracy: 0.9205 - 1s/epoch - 3ms/step\n"
          ]
        }
      ]
    },
    {
      "cell_type": "code",
      "source": [
        "pred_lasso= lasso.predict(x_test_v) \n",
        "pred_lasso = np.argmax(pred_lasso, axis = 1)[:20] \n",
        "label_lasso = np.argmax(y_test_c,axis = 1)[:20] \n",
        "\n",
        "print(pred_lasso) \n",
        "print(label_lasso)"
      ],
      "metadata": {
        "colab": {
          "base_uri": "https://localhost:8080/"
        },
        "id": "pc7IPtRlMvjf",
        "outputId": "46c78157-ec5d-480c-e125-c375d501999f"
      },
      "execution_count": 66,
      "outputs": [
        {
          "output_type": "stream",
          "name": "stdout",
          "text": [
            "313/313 [==============================] - 1s 2ms/step\n",
            "[7 2 1 0 4 1 4 9 6 9 0 6 4 0 1 5 9 7 3 4]\n",
            "[7 2 1 0 4 1 4 9 5 9 0 6 9 0 1 5 9 7 3 4]\n"
          ]
        }
      ]
    },
    {
      "cell_type": "markdown",
      "source": [
        "**2. Ridge**"
      ],
      "metadata": {
        "id": "CeWgp3-9veYx"
      }
    },
    {
      "cell_type": "code",
      "source": [
        "def ridge_reg(lambd):\n",
        "  inp=Input(shape=(784,)) #784 pixel avec , étiquette \n",
        "  c1=Dense(200, kernel_regularizer=l2(lambd),activation=\"relu\") (inp) #les valeurs de neurons pour chaque couche est donné dans l'exercice\n",
        "  c2=Dense(100, kernel_regularizer=l2(lambd),activation=\"relu\") (c1) \n",
        "  c3=Dense(60, kernel_regularizer=l2(lambd),activation=\"relu\") (c2) \n",
        "  c4=Dense(30, kernel_regularizer=l2(lambd),activation=\"relu\") (c3) \n",
        "  outp=Dense(10,activation=\"softmax\") (c4) \n",
        "  model = Model (inp,outp)\n",
        "  model.summary()\n",
        "  return model"
      ],
      "metadata": {
        "id": "vxPDxqOPvigl"
      },
      "execution_count": 20,
      "outputs": []
    },
    {
      "cell_type": "code",
      "source": [
        "ridge=ridge_reg(lambd=0.0001)\n",
        "ridge.compile(loss=fc, optimizer=optimAd,metrics=[\"accuracy\"])\n",
        "hist_ridge=ridge.fit(x_train_v,y_train_c, validation_data=(x_test_v,y_test_c), epochs=100, batch_size=100, shuffle=True)"
      ],
      "metadata": {
        "colab": {
          "base_uri": "https://localhost:8080/"
        },
        "id": "xcLyrw9Dv-eB",
        "outputId": "d192742d-40a2-4429-bd27-df5ec470de40"
      },
      "execution_count": 41,
      "outputs": [
        {
          "output_type": "stream",
          "name": "stdout",
          "text": [
            "Model: \"model_9\"\n",
            "_________________________________________________________________\n",
            " Layer (type)                Output Shape              Param #   \n",
            "=================================================================\n",
            " input_10 (InputLayer)       [(None, 784)]             0         \n",
            "                                                                 \n",
            " dense_45 (Dense)            (None, 200)               157000    \n",
            "                                                                 \n",
            " dense_46 (Dense)            (None, 100)               20100     \n",
            "                                                                 \n",
            " dense_47 (Dense)            (None, 60)                6060      \n",
            "                                                                 \n",
            " dense_48 (Dense)            (None, 30)                1830      \n",
            "                                                                 \n",
            " dense_49 (Dense)            (None, 10)                310       \n",
            "                                                                 \n",
            "=================================================================\n",
            "Total params: 185,300\n",
            "Trainable params: 185,300\n",
            "Non-trainable params: 0\n",
            "_________________________________________________________________\n",
            "Epoch 1/100\n",
            "600/600 [==============================] - 6s 9ms/step - loss: 0.7309 - accuracy: 0.8573 - val_loss: 0.4268 - val_accuracy: 0.9187\n",
            "Epoch 2/100\n",
            "600/600 [==============================] - 5s 8ms/step - loss: 0.3697 - accuracy: 0.9285 - val_loss: 0.3344 - val_accuracy: 0.9343\n",
            "Epoch 3/100\n",
            "600/600 [==============================] - 5s 8ms/step - loss: 0.3111 - accuracy: 0.9392 - val_loss: 0.3112 - val_accuracy: 0.9378\n",
            "Epoch 4/100\n",
            "600/600 [==============================] - 5s 8ms/step - loss: 0.2797 - accuracy: 0.9427 - val_loss: 0.2702 - val_accuracy: 0.9463\n",
            "Epoch 5/100\n",
            "600/600 [==============================] - 5s 8ms/step - loss: 0.2678 - accuracy: 0.9455 - val_loss: 0.2641 - val_accuracy: 0.9469\n",
            "Epoch 6/100\n",
            "600/600 [==============================] - 5s 8ms/step - loss: 0.2585 - accuracy: 0.9472 - val_loss: 0.2647 - val_accuracy: 0.9445\n",
            "Epoch 7/100\n",
            "600/600 [==============================] - 6s 10ms/step - loss: 0.2518 - accuracy: 0.9491 - val_loss: 0.2687 - val_accuracy: 0.9452\n",
            "Epoch 8/100\n",
            "600/600 [==============================] - 5s 8ms/step - loss: 0.2507 - accuracy: 0.9485 - val_loss: 0.2612 - val_accuracy: 0.9482\n",
            "Epoch 9/100\n",
            "600/600 [==============================] - 5s 8ms/step - loss: 0.2437 - accuracy: 0.9508 - val_loss: 0.2623 - val_accuracy: 0.9449\n",
            "Epoch 10/100\n",
            "600/600 [==============================] - 5s 8ms/step - loss: 0.2426 - accuracy: 0.9518 - val_loss: 0.3064 - val_accuracy: 0.9411\n",
            "Epoch 11/100\n",
            "600/600 [==============================] - 5s 8ms/step - loss: 0.2417 - accuracy: 0.9518 - val_loss: 0.2629 - val_accuracy: 0.9477\n",
            "Epoch 12/100\n",
            "600/600 [==============================] - 5s 8ms/step - loss: 0.2422 - accuracy: 0.9527 - val_loss: 0.2818 - val_accuracy: 0.9427\n",
            "Epoch 13/100\n",
            "600/600 [==============================] - 5s 8ms/step - loss: 0.2389 - accuracy: 0.9533 - val_loss: 0.2533 - val_accuracy: 0.9476\n",
            "Epoch 14/100\n",
            "600/600 [==============================] - 5s 8ms/step - loss: 0.2327 - accuracy: 0.9547 - val_loss: 0.2522 - val_accuracy: 0.9494\n",
            "Epoch 15/100\n",
            "600/600 [==============================] - 6s 10ms/step - loss: 0.2317 - accuracy: 0.9553 - val_loss: 0.2459 - val_accuracy: 0.9517\n",
            "Epoch 16/100\n",
            "600/600 [==============================] - 5s 8ms/step - loss: 0.2351 - accuracy: 0.9530 - val_loss: 0.2332 - val_accuracy: 0.9548\n",
            "Epoch 17/100\n",
            "600/600 [==============================] - 5s 8ms/step - loss: 0.2335 - accuracy: 0.9540 - val_loss: 0.2576 - val_accuracy: 0.9501\n",
            "Epoch 18/100\n",
            "600/600 [==============================] - 5s 8ms/step - loss: 0.2291 - accuracy: 0.9551 - val_loss: 0.2518 - val_accuracy: 0.9499\n",
            "Epoch 19/100\n",
            "600/600 [==============================] - 5s 8ms/step - loss: 0.2289 - accuracy: 0.9548 - val_loss: 0.2314 - val_accuracy: 0.9553\n",
            "Epoch 20/100\n",
            "600/600 [==============================] - 5s 8ms/step - loss: 0.2267 - accuracy: 0.9563 - val_loss: 0.2398 - val_accuracy: 0.9530\n",
            "Epoch 21/100\n",
            "600/600 [==============================] - 5s 8ms/step - loss: 0.2262 - accuracy: 0.9559 - val_loss: 0.2645 - val_accuracy: 0.9468\n",
            "Epoch 22/100\n",
            "600/600 [==============================] - 5s 8ms/step - loss: 0.2238 - accuracy: 0.9569 - val_loss: 0.2396 - val_accuracy: 0.9535\n",
            "Epoch 23/100\n",
            "600/600 [==============================] - 6s 10ms/step - loss: 0.2286 - accuracy: 0.9557 - val_loss: 0.2427 - val_accuracy: 0.9532\n",
            "Epoch 24/100\n",
            "600/600 [==============================] - 5s 8ms/step - loss: 0.2268 - accuracy: 0.9554 - val_loss: 0.2526 - val_accuracy: 0.9504\n",
            "Epoch 25/100\n",
            "600/600 [==============================] - 5s 8ms/step - loss: 0.2256 - accuracy: 0.9563 - val_loss: 0.2479 - val_accuracy: 0.9502\n",
            "Epoch 26/100\n",
            "600/600 [==============================] - 5s 8ms/step - loss: 0.2266 - accuracy: 0.9560 - val_loss: 0.2609 - val_accuracy: 0.9484\n",
            "Epoch 27/100\n",
            "600/600 [==============================] - 5s 8ms/step - loss: 0.2266 - accuracy: 0.9564 - val_loss: 0.2381 - val_accuracy: 0.9529\n",
            "Epoch 28/100\n",
            "600/600 [==============================] - 5s 8ms/step - loss: 0.2281 - accuracy: 0.9552 - val_loss: 0.2328 - val_accuracy: 0.9554\n",
            "Epoch 29/100\n",
            "600/600 [==============================] - 5s 8ms/step - loss: 0.2282 - accuracy: 0.9560 - val_loss: 0.2704 - val_accuracy: 0.9459\n",
            "Epoch 30/100\n",
            "600/600 [==============================] - 5s 8ms/step - loss: 0.2266 - accuracy: 0.9560 - val_loss: 0.2439 - val_accuracy: 0.9535\n",
            "Epoch 31/100\n",
            "600/600 [==============================] - 6s 10ms/step - loss: 0.2292 - accuracy: 0.9552 - val_loss: 0.2502 - val_accuracy: 0.9488\n",
            "Epoch 32/100\n",
            "600/600 [==============================] - 5s 8ms/step - loss: 0.2224 - accuracy: 0.9579 - val_loss: 0.2269 - val_accuracy: 0.9564\n",
            "Epoch 33/100\n",
            "600/600 [==============================] - 5s 8ms/step - loss: 0.2210 - accuracy: 0.9582 - val_loss: 0.2330 - val_accuracy: 0.9545\n",
            "Epoch 34/100\n",
            "600/600 [==============================] - 5s 8ms/step - loss: 0.2215 - accuracy: 0.9567 - val_loss: 0.2536 - val_accuracy: 0.9495\n",
            "Epoch 35/100\n",
            "600/600 [==============================] - 5s 8ms/step - loss: 0.2233 - accuracy: 0.9576 - val_loss: 0.2346 - val_accuracy: 0.9532\n",
            "Epoch 36/100\n",
            "600/600 [==============================] - 5s 8ms/step - loss: 0.2235 - accuracy: 0.9573 - val_loss: 0.2406 - val_accuracy: 0.9529\n",
            "Epoch 37/100\n",
            "600/600 [==============================] - 5s 8ms/step - loss: 0.2211 - accuracy: 0.9573 - val_loss: 0.2458 - val_accuracy: 0.9494\n",
            "Epoch 38/100\n",
            "600/600 [==============================] - 5s 8ms/step - loss: 0.2214 - accuracy: 0.9565 - val_loss: 0.2425 - val_accuracy: 0.9527\n",
            "Epoch 39/100\n",
            "600/600 [==============================] - 6s 10ms/step - loss: 0.2241 - accuracy: 0.9567 - val_loss: 0.2250 - val_accuracy: 0.9569\n",
            "Epoch 40/100\n",
            "600/600 [==============================] - 5s 8ms/step - loss: 0.2205 - accuracy: 0.9578 - val_loss: 0.2318 - val_accuracy: 0.9536\n",
            "Epoch 41/100\n",
            "600/600 [==============================] - 5s 8ms/step - loss: 0.2194 - accuracy: 0.9582 - val_loss: 0.2434 - val_accuracy: 0.9500\n",
            "Epoch 42/100\n",
            "600/600 [==============================] - 5s 8ms/step - loss: 0.2174 - accuracy: 0.9582 - val_loss: 0.2221 - val_accuracy: 0.9589\n",
            "Epoch 43/100\n",
            "600/600 [==============================] - 5s 8ms/step - loss: 0.2212 - accuracy: 0.9577 - val_loss: 0.2632 - val_accuracy: 0.9442\n",
            "Epoch 44/100\n",
            "600/600 [==============================] - 5s 8ms/step - loss: 0.2174 - accuracy: 0.9579 - val_loss: 0.2202 - val_accuracy: 0.9579\n",
            "Epoch 45/100\n",
            "600/600 [==============================] - 5s 8ms/step - loss: 0.2152 - accuracy: 0.9587 - val_loss: 0.2363 - val_accuracy: 0.9509\n",
            "Epoch 46/100\n",
            "600/600 [==============================] - 6s 10ms/step - loss: 0.2153 - accuracy: 0.9580 - val_loss: 0.2682 - val_accuracy: 0.9441\n",
            "Epoch 47/100\n",
            "600/600 [==============================] - 5s 8ms/step - loss: 0.2198 - accuracy: 0.9572 - val_loss: 0.2366 - val_accuracy: 0.9498\n",
            "Epoch 48/100\n",
            "600/600 [==============================] - 5s 8ms/step - loss: 0.2122 - accuracy: 0.9595 - val_loss: 0.2139 - val_accuracy: 0.9580\n",
            "Epoch 49/100\n",
            "600/600 [==============================] - 5s 8ms/step - loss: 0.2152 - accuracy: 0.9583 - val_loss: 0.2332 - val_accuracy: 0.9537\n",
            "Epoch 50/100\n",
            "600/600 [==============================] - 5s 8ms/step - loss: 0.2172 - accuracy: 0.9585 - val_loss: 0.2259 - val_accuracy: 0.9566\n",
            "Epoch 51/100\n",
            "600/600 [==============================] - 5s 8ms/step - loss: 0.2169 - accuracy: 0.9582 - val_loss: 0.2337 - val_accuracy: 0.9552\n",
            "Epoch 52/100\n",
            "600/600 [==============================] - 5s 8ms/step - loss: 0.2184 - accuracy: 0.9578 - val_loss: 0.2453 - val_accuracy: 0.9487\n",
            "Epoch 53/100\n",
            "600/600 [==============================] - 5s 8ms/step - loss: 0.2168 - accuracy: 0.9580 - val_loss: 0.2555 - val_accuracy: 0.9469\n",
            "Epoch 54/100\n",
            "600/600 [==============================] - 6s 10ms/step - loss: 0.2128 - accuracy: 0.9597 - val_loss: 0.2162 - val_accuracy: 0.9583\n",
            "Epoch 55/100\n",
            "600/600 [==============================] - 5s 8ms/step - loss: 0.2163 - accuracy: 0.9583 - val_loss: 0.2315 - val_accuracy: 0.9552\n",
            "Epoch 56/100\n",
            "600/600 [==============================] - 5s 8ms/step - loss: 0.2140 - accuracy: 0.9585 - val_loss: 0.2423 - val_accuracy: 0.9520\n",
            "Epoch 57/100\n",
            "600/600 [==============================] - 5s 8ms/step - loss: 0.2139 - accuracy: 0.9594 - val_loss: 0.2308 - val_accuracy: 0.9550\n",
            "Epoch 58/100\n",
            "600/600 [==============================] - 5s 8ms/step - loss: 0.2170 - accuracy: 0.9585 - val_loss: 0.2712 - val_accuracy: 0.9403\n",
            "Epoch 59/100\n",
            "600/600 [==============================] - 5s 8ms/step - loss: 0.2128 - accuracy: 0.9590 - val_loss: 0.2735 - val_accuracy: 0.9404\n",
            "Epoch 60/100\n",
            "600/600 [==============================] - 5s 8ms/step - loss: 0.2160 - accuracy: 0.9585 - val_loss: 0.2283 - val_accuracy: 0.9561\n",
            "Epoch 61/100\n",
            "600/600 [==============================] - 5s 8ms/step - loss: 0.2171 - accuracy: 0.9586 - val_loss: 0.2310 - val_accuracy: 0.9542\n",
            "Epoch 62/100\n",
            "600/600 [==============================] - 6s 10ms/step - loss: 0.2115 - accuracy: 0.9593 - val_loss: 0.2280 - val_accuracy: 0.9553\n",
            "Epoch 63/100\n",
            "600/600 [==============================] - 5s 8ms/step - loss: 0.2163 - accuracy: 0.9589 - val_loss: 0.2336 - val_accuracy: 0.9533\n",
            "Epoch 64/100\n",
            "600/600 [==============================] - 5s 8ms/step - loss: 0.2160 - accuracy: 0.9582 - val_loss: 0.2272 - val_accuracy: 0.9578\n",
            "Epoch 65/100\n",
            "600/600 [==============================] - 5s 8ms/step - loss: 0.2163 - accuracy: 0.9595 - val_loss: 0.2325 - val_accuracy: 0.9552\n",
            "Epoch 66/100\n",
            "600/600 [==============================] - 5s 8ms/step - loss: 0.2147 - accuracy: 0.9593 - val_loss: 0.2494 - val_accuracy: 0.9500\n",
            "Epoch 67/100\n",
            "600/600 [==============================] - 5s 8ms/step - loss: 0.2206 - accuracy: 0.9573 - val_loss: 0.2291 - val_accuracy: 0.9542\n",
            "Epoch 68/100\n",
            "600/600 [==============================] - 5s 8ms/step - loss: 0.2131 - accuracy: 0.9597 - val_loss: 0.2368 - val_accuracy: 0.9528\n",
            "Epoch 69/100\n",
            "600/600 [==============================] - 6s 10ms/step - loss: 0.2132 - accuracy: 0.9595 - val_loss: 0.2659 - val_accuracy: 0.9426\n",
            "Epoch 70/100\n",
            "600/600 [==============================] - 5s 8ms/step - loss: 0.2178 - accuracy: 0.9579 - val_loss: 0.2456 - val_accuracy: 0.9505\n",
            "Epoch 71/100\n",
            "600/600 [==============================] - 5s 8ms/step - loss: 0.2155 - accuracy: 0.9592 - val_loss: 0.2282 - val_accuracy: 0.9545\n",
            "Epoch 72/100\n",
            "600/600 [==============================] - 5s 8ms/step - loss: 0.2146 - accuracy: 0.9595 - val_loss: 0.2413 - val_accuracy: 0.9504\n",
            "Epoch 73/100\n",
            "600/600 [==============================] - 5s 8ms/step - loss: 0.2129 - accuracy: 0.9590 - val_loss: 0.2381 - val_accuracy: 0.9524\n",
            "Epoch 74/100\n",
            "600/600 [==============================] - 5s 8ms/step - loss: 0.2149 - accuracy: 0.9582 - val_loss: 0.2274 - val_accuracy: 0.9572\n",
            "Epoch 75/100\n",
            "600/600 [==============================] - 5s 8ms/step - loss: 0.2126 - accuracy: 0.9587 - val_loss: 0.2197 - val_accuracy: 0.9586\n",
            "Epoch 76/100\n",
            "600/600 [==============================] - 5s 8ms/step - loss: 0.2150 - accuracy: 0.9589 - val_loss: 0.2339 - val_accuracy: 0.9553\n",
            "Epoch 77/100\n",
            "600/600 [==============================] - 6s 10ms/step - loss: 0.2134 - accuracy: 0.9594 - val_loss: 0.2624 - val_accuracy: 0.9465\n",
            "Epoch 78/100\n",
            "600/600 [==============================] - 5s 9ms/step - loss: 0.2114 - accuracy: 0.9590 - val_loss: 0.2293 - val_accuracy: 0.9556\n",
            "Epoch 79/100\n",
            "600/600 [==============================] - 5s 8ms/step - loss: 0.2079 - accuracy: 0.9604 - val_loss: 0.2123 - val_accuracy: 0.9589\n",
            "Epoch 80/100\n",
            "600/600 [==============================] - 5s 8ms/step - loss: 0.2116 - accuracy: 0.9593 - val_loss: 0.2173 - val_accuracy: 0.9597\n",
            "Epoch 81/100\n",
            "600/600 [==============================] - 5s 8ms/step - loss: 0.2151 - accuracy: 0.9586 - val_loss: 0.2278 - val_accuracy: 0.9559\n",
            "Epoch 82/100\n",
            "600/600 [==============================] - 5s 8ms/step - loss: 0.2131 - accuracy: 0.9592 - val_loss: 0.2269 - val_accuracy: 0.9565\n",
            "Epoch 83/100\n",
            "600/600 [==============================] - 5s 8ms/step - loss: 0.2115 - accuracy: 0.9599 - val_loss: 0.2191 - val_accuracy: 0.9588\n",
            "Epoch 84/100\n",
            "600/600 [==============================] - 6s 10ms/step - loss: 0.2124 - accuracy: 0.9594 - val_loss: 0.2495 - val_accuracy: 0.9497\n",
            "Epoch 85/100\n",
            "600/600 [==============================] - 5s 9ms/step - loss: 0.2156 - accuracy: 0.9592 - val_loss: 0.2237 - val_accuracy: 0.9570\n",
            "Epoch 86/100\n",
            "600/600 [==============================] - 5s 9ms/step - loss: 0.2155 - accuracy: 0.9590 - val_loss: 0.2886 - val_accuracy: 0.9416\n",
            "Epoch 87/100\n",
            "600/600 [==============================] - 5s 9ms/step - loss: 0.2133 - accuracy: 0.9589 - val_loss: 0.2345 - val_accuracy: 0.9551\n",
            "Epoch 88/100\n",
            "600/600 [==============================] - 5s 8ms/step - loss: 0.2102 - accuracy: 0.9605 - val_loss: 0.2457 - val_accuracy: 0.9524\n",
            "Epoch 89/100\n",
            "600/600 [==============================] - 5s 8ms/step - loss: 0.2097 - accuracy: 0.9597 - val_loss: 0.2285 - val_accuracy: 0.9556\n",
            "Epoch 90/100\n",
            "600/600 [==============================] - 5s 8ms/step - loss: 0.2109 - accuracy: 0.9601 - val_loss: 0.2188 - val_accuracy: 0.9603\n",
            "Epoch 91/100\n",
            "600/600 [==============================] - 5s 9ms/step - loss: 0.2103 - accuracy: 0.9600 - val_loss: 0.2277 - val_accuracy: 0.9541\n",
            "Epoch 92/100\n",
            "600/600 [==============================] - 6s 10ms/step - loss: 0.2101 - accuracy: 0.9595 - val_loss: 0.2180 - val_accuracy: 0.9593\n",
            "Epoch 93/100\n",
            "600/600 [==============================] - 5s 9ms/step - loss: 0.2117 - accuracy: 0.9587 - val_loss: 0.2270 - val_accuracy: 0.9531\n",
            "Epoch 94/100\n",
            "600/600 [==============================] - 5s 8ms/step - loss: 0.2125 - accuracy: 0.9589 - val_loss: 0.2177 - val_accuracy: 0.9583\n",
            "Epoch 95/100\n",
            "600/600 [==============================] - 5s 8ms/step - loss: 0.2088 - accuracy: 0.9603 - val_loss: 0.2171 - val_accuracy: 0.9586\n",
            "Epoch 96/100\n",
            "600/600 [==============================] - 5s 8ms/step - loss: 0.2111 - accuracy: 0.9595 - val_loss: 0.2307 - val_accuracy: 0.9570\n",
            "Epoch 97/100\n",
            "600/600 [==============================] - 5s 8ms/step - loss: 0.2065 - accuracy: 0.9607 - val_loss: 0.2364 - val_accuracy: 0.9517\n",
            "Epoch 98/100\n",
            "600/600 [==============================] - 5s 9ms/step - loss: 0.2081 - accuracy: 0.9609 - val_loss: 0.2372 - val_accuracy: 0.9533\n",
            "Epoch 99/100\n",
            "600/600 [==============================] - 6s 11ms/step - loss: 0.2139 - accuracy: 0.9584 - val_loss: 0.2219 - val_accuracy: 0.9575\n",
            "Epoch 100/100\n",
            "600/600 [==============================] - 5s 9ms/step - loss: 0.2087 - accuracy: 0.9599 - val_loss: 0.2349 - val_accuracy: 0.9532\n"
          ]
        }
      ]
    },
    {
      "cell_type": "code",
      "source": [
        "#7.visualiser les erreurs\n",
        "plt.rcParams[\"figure.figsize\"] = [6., 5.]\n",
        "plt.rcParams.update({'font.size': 14})\n",
        "plt.plot(hist_ridge.history[\"accuracy\"],c='b',label=\"Ens. d'apprentissage\")\n",
        "plt.plot(hist_ridge.history[\"val_accuracy\"],c='r',label=\"Ens. de test\")\n",
        "plt.xlabel(\"n_epoch\")\n",
        "plt.ylabel(\"Taux de classification\")\n",
        "plt.legend()\n",
        "plt.show()"
      ],
      "metadata": {
        "colab": {
          "base_uri": "https://localhost:8080/",
          "height": 361
        },
        "id": "1qOmXF0NHIPL",
        "outputId": "0154be66-8524-45e1-b6e2-775f8aceb5a8"
      },
      "execution_count": 42,
      "outputs": [
        {
          "output_type": "display_data",
          "data": {
            "text/plain": [
              "<Figure size 432x360 with 1 Axes>"
            ],
            "image/png": "[encoded data removed]"
          },
          "metadata": {
            "needs_background": "light"
          }
        }
      ]
    },
    {
      "cell_type": "code",
      "source": [
        "#8. Evaluer vos modèle sur l’ensemble de test\n",
        "\n",
        "plt.rcParams[\"figure.figsize\"] = [8., 8.]\n",
        "plt.rcParams[\"figure.autolayout\"] = True\n",
        "plt.rcParams.update({'font.size': 12})\n",
        "fig, axs = plt.subplots(nrows=3, ncols=3)\n",
        "axs = axs.flatten()\n",
        "y_pred_ridge=ridge.predict(x_test_v)\n",
        "color=\"red\"\n",
        "for ax,j in zip(axs, range(9)):\n",
        "  ax.axis(\"off\")\n",
        "  ax.imshow(x_test[j], cmap='gray')\n",
        "if (y_test[j]==np.argmax(y_pred_ridge[j])):\n",
        "  color=\"green\"\n",
        "else:\n",
        "  color=\"red\"\n",
        "\n",
        "ax.set_title(\"V.Réelle:\"+str(y_test[j])+\"Prédiction:\"+str(np.argmax(y_pred_ridge[j])),c=color)\n",
        "plt.show()"
      ],
      "metadata": {
        "colab": {
          "base_uri": "https://localhost:8080/",
          "height": 598
        },
        "id": "rvWvWJfEHIFX",
        "outputId": "5ea26c12-f5c3-4d35-efee-e0f3856c7e51"
      },
      "execution_count": 43,
      "outputs": [
        {
          "output_type": "stream",
          "name": "stdout",
          "text": [
            "313/313 [==============================] - 1s 3ms/step\n"
          ]
        },
        {
          "output_type": "display_data",
          "data": {
            "text/plain": [
              "<Figure size 576x576 with 9 Axes>"
            ],
            "image/png": "[encoded data removed]"
          },
          "metadata": {
            "needs_background": "light"
          }
        }
      ]
    },
    {
      "cell_type": "code",
      "source": [
        "indice_exemple=1\n",
        "image_test1=x_test_v[indice_exemple]\n",
        "predictionProba =ridge.predict(image_test1.reshape(1,-1))\n",
        "predictionClass=np.argmax(predictionProba)\n",
        "fig, (ax1, ax2) = plt.subplots(1, 2, figsize=(12,6))\n",
        "ax1.imshow(x_test[indice_exemple], cmap='gray')\n",
        "ax1.axis(\"off\")\n",
        "y_pos = np.arange(10)\n",
        "barlist=ax2.barh(y_pos,predictionProba[0])\n",
        "if(predictionClass==y_test[indice_exemple]):\n",
        "  barlist[int(predictionClass)].set_color('g')\n",
        "else:\n",
        "  barlist[int(predictionClass)].set_color('r')\n",
        "plt.yticks(y_pos, y_pos, fontsize=20)\n",
        "plt.show()"
      ],
      "metadata": {
        "colab": {
          "base_uri": "https://localhost:8080/",
          "height": 454
        },
        "id": "ICGkI1dJHH49",
        "outputId": "e4968d4d-5fd6-45b9-a654-1d6db097ce97"
      },
      "execution_count": 44,
      "outputs": [
        {
          "output_type": "stream",
          "name": "stdout",
          "text": [
            "1/1 [==============================] - 0s 25ms/step\n"
          ]
        },
        {
          "output_type": "display_data",
          "data": {
            "text/plain": [
              "<Figure size 864x432 with 2 Axes>"
            ],
            "image/png": "[encoded data removed]"
          },
          "metadata": {
            "needs_background": "light"
          }
        }
      ]
    },
    {
      "cell_type": "code",
      "source": [
        "test_loss_ridge, test_acc_ridge= ridge.evaluate(x_test_v,  y_test_c, verbose=2)"
      ],
      "metadata": {
        "colab": {
          "base_uri": "https://localhost:8080/"
        },
        "id": "YiZL7lAY9MAr",
        "outputId": "f53a7044-465f-408a-ab60-3090bd883723"
      },
      "execution_count": 45,
      "outputs": [
        {
          "output_type": "stream",
          "name": "stdout",
          "text": [
            "313/313 - 1s - loss: 0.2349 - accuracy: 0.9532 - 1s/epoch - 3ms/step\n"
          ]
        }
      ]
    },
    {
      "cell_type": "code",
      "source": [
        "pred_ridge= ridge.predict(x_test_v) \n",
        "pred_ridge= np.argmax(pred_ridge, axis = 1)[:20] \n",
        "label_ridge = np.argmax(y_test_c,axis = 1)[:20] \n",
        "\n",
        "print(pred_ridge) \n",
        "print(label_ridge)"
      ],
      "metadata": {
        "colab": {
          "base_uri": "https://localhost:8080/"
        },
        "id": "er94jm8UNMVa",
        "outputId": "955c56c6-aa1c-4dc5-de77-e94c94cba937"
      },
      "execution_count": 47,
      "outputs": [
        {
          "output_type": "stream",
          "name": "stdout",
          "text": [
            "313/313 [==============================] - 1s 4ms/step\n",
            "[7 2 1 0 4 1 4 9 5 9 0 6 9 0 1 5 9 7 3 4]\n",
            "[7 2 1 0 4 1 4 9 5 9 0 6 9 0 1 5 9 7 3 4]\n"
          ]
        }
      ]
    },
    {
      "cell_type": "markdown",
      "source": [
        "**3. weight decay**"
      ],
      "metadata": {
        "id": "khYy6A9X_CzN"
      }
    },
    {
      "cell_type": "code",
      "source": [
        "wd=ridge_reg(lambd=0.0001)\n",
        "wd.compile(loss=fc, optimizer=optim,metrics=[\"accuracy\"])\n",
        "hist_wd=wd.fit(x_train_v,y_train_c, validation_data=(x_test_v,y_test_c), epochs=100, batch_size=100, shuffle=True)"
      ],
      "metadata": {
        "colab": {
          "base_uri": "https://localhost:8080/"
        },
        "id": "-Thvjwiz_Bbk",
        "outputId": "3c6dab27-b5da-41d2-c978-883bc3e2f779"
      },
      "execution_count": 49,
      "outputs": [
        {
          "output_type": "stream",
          "name": "stdout",
          "text": [
            "Model: \"model_10\"\n",
            "_________________________________________________________________\n",
            " Layer (type)                Output Shape              Param #   \n",
            "=================================================================\n",
            " input_11 (InputLayer)       [(None, 784)]             0         \n",
            "                                                                 \n",
            " dense_50 (Dense)            (None, 200)               157000    \n",
            "                                                                 \n",
            " dense_51 (Dense)            (None, 100)               20100     \n",
            "                                                                 \n",
            " dense_52 (Dense)            (None, 60)                6060      \n",
            "                                                                 \n",
            " dense_53 (Dense)            (None, 30)                1830      \n",
            "                                                                 \n",
            " dense_54 (Dense)            (None, 10)                310       \n",
            "                                                                 \n",
            "=================================================================\n",
            "Total params: 185,300\n",
            "Trainable params: 185,300\n",
            "Non-trainable params: 0\n",
            "_________________________________________________________________\n",
            "Epoch 1/100\n",
            "600/600 [==============================] - 6s 9ms/step - loss: 2.3300 - accuracy: 0.2070 - val_loss: 2.2882 - val_accuracy: 0.3154\n",
            "Epoch 2/100\n",
            "600/600 [==============================] - 5s 8ms/step - loss: 2.2401 - accuracy: 0.3652 - val_loss: 2.1790 - val_accuracy: 0.4077\n",
            "Epoch 3/100\n",
            "600/600 [==============================] - 5s 8ms/step - loss: 2.1052 - accuracy: 0.4349 - val_loss: 2.0076 - val_accuracy: 0.4692\n",
            "Epoch 4/100\n",
            "600/600 [==============================] - 5s 8ms/step - loss: 1.8993 - accuracy: 0.5092 - val_loss: 1.7586 - val_accuracy: 0.5497\n",
            "Epoch 5/100\n",
            "600/600 [==============================] - 5s 8ms/step - loss: 1.6296 - accuracy: 0.5958 - val_loss: 1.4609 - val_accuracy: 0.6534\n",
            "Epoch 6/100\n",
            "600/600 [==============================] - 5s 8ms/step - loss: 1.3353 - accuracy: 0.6980 - val_loss: 1.1634 - val_accuracy: 0.7525\n",
            "Epoch 7/100\n",
            "600/600 [==============================] - 6s 10ms/step - loss: 1.0648 - accuracy: 0.7704 - val_loss: 0.9203 - val_accuracy: 0.7922\n",
            "Epoch 8/100\n",
            "600/600 [==============================] - 5s 8ms/step - loss: 0.8671 - accuracy: 0.8012 - val_loss: 0.7656 - val_accuracy: 0.8157\n",
            "Epoch 9/100\n",
            "600/600 [==============================] - 5s 8ms/step - loss: 0.7453 - accuracy: 0.8196 - val_loss: 0.6717 - val_accuracy: 0.8329\n",
            "Epoch 10/100\n",
            "600/600 [==============================] - 5s 8ms/step - loss: 0.6683 - accuracy: 0.8342 - val_loss: 0.6106 - val_accuracy: 0.8485\n",
            "Epoch 11/100\n",
            "600/600 [==============================] - 5s 8ms/step - loss: 0.6155 - accuracy: 0.8451 - val_loss: 0.5682 - val_accuracy: 0.8578\n",
            "Epoch 12/100\n",
            "600/600 [==============================] - 5s 8ms/step - loss: 0.5765 - accuracy: 0.8548 - val_loss: 0.5347 - val_accuracy: 0.8668\n",
            "Epoch 13/100\n",
            "600/600 [==============================] - 4s 7ms/step - loss: 0.5459 - accuracy: 0.8634 - val_loss: 0.5082 - val_accuracy: 0.8722\n",
            "Epoch 14/100\n",
            "600/600 [==============================] - 5s 8ms/step - loss: 0.5208 - accuracy: 0.8697 - val_loss: 0.4865 - val_accuracy: 0.8774\n",
            "Epoch 15/100\n",
            "600/600 [==============================] - 6s 10ms/step - loss: 0.4998 - accuracy: 0.8760 - val_loss: 0.4682 - val_accuracy: 0.8827\n",
            "Epoch 16/100\n",
            "600/600 [==============================] - 5s 8ms/step - loss: 0.4816 - accuracy: 0.8812 - val_loss: 0.4532 - val_accuracy: 0.8866\n",
            "Epoch 17/100\n",
            "600/600 [==============================] - 5s 8ms/step - loss: 0.4657 - accuracy: 0.8854 - val_loss: 0.4394 - val_accuracy: 0.8908\n",
            "Epoch 18/100\n",
            "600/600 [==============================] - 4s 7ms/step - loss: 0.4520 - accuracy: 0.8888 - val_loss: 0.4272 - val_accuracy: 0.8937\n",
            "Epoch 19/100\n",
            "600/600 [==============================] - 4s 7ms/step - loss: 0.4395 - accuracy: 0.8929 - val_loss: 0.4161 - val_accuracy: 0.8973\n",
            "Epoch 20/100\n",
            "600/600 [==============================] - 5s 8ms/step - loss: 0.4283 - accuracy: 0.8959 - val_loss: 0.4059 - val_accuracy: 0.8995\n",
            "Epoch 21/100\n",
            "600/600 [==============================] - 5s 8ms/step - loss: 0.4180 - accuracy: 0.8986 - val_loss: 0.3981 - val_accuracy: 0.9043\n",
            "Epoch 22/100\n",
            "600/600 [==============================] - 5s 8ms/step - loss: 0.4087 - accuracy: 0.9014 - val_loss: 0.3885 - val_accuracy: 0.9052\n",
            "Epoch 23/100\n",
            "600/600 [==============================] - 6s 10ms/step - loss: 0.4002 - accuracy: 0.9035 - val_loss: 0.3823 - val_accuracy: 0.9079\n",
            "Epoch 24/100\n",
            "600/600 [==============================] - 4s 7ms/step - loss: 0.3921 - accuracy: 0.9052 - val_loss: 0.3749 - val_accuracy: 0.9081\n",
            "Epoch 25/100\n",
            "600/600 [==============================] - 5s 8ms/step - loss: 0.3847 - accuracy: 0.9080 - val_loss: 0.3673 - val_accuracy: 0.9105\n",
            "Epoch 26/100\n",
            "600/600 [==============================] - 5s 8ms/step - loss: 0.3778 - accuracy: 0.9099 - val_loss: 0.3616 - val_accuracy: 0.9121\n",
            "Epoch 27/100\n",
            "600/600 [==============================] - 4s 7ms/step - loss: 0.3712 - accuracy: 0.9115 - val_loss: 0.3561 - val_accuracy: 0.9136\n",
            "Epoch 28/100\n",
            "600/600 [==============================] - 5s 8ms/step - loss: 0.3651 - accuracy: 0.9135 - val_loss: 0.3518 - val_accuracy: 0.9149\n",
            "Epoch 29/100\n",
            "600/600 [==============================] - 4s 7ms/step - loss: 0.3594 - accuracy: 0.9150 - val_loss: 0.3470 - val_accuracy: 0.9175\n",
            "Epoch 30/100\n",
            "600/600 [==============================] - 4s 7ms/step - loss: 0.3539 - accuracy: 0.9171 - val_loss: 0.3415 - val_accuracy: 0.9182\n",
            "Epoch 31/100\n",
            "600/600 [==============================] - 6s 10ms/step - loss: 0.3488 - accuracy: 0.9181 - val_loss: 0.3367 - val_accuracy: 0.9188\n",
            "Epoch 32/100\n",
            "600/600 [==============================] - 4s 7ms/step - loss: 0.3437 - accuracy: 0.9202 - val_loss: 0.3327 - val_accuracy: 0.9202\n",
            "Epoch 33/100\n",
            "600/600 [==============================] - 5s 8ms/step - loss: 0.3390 - accuracy: 0.9213 - val_loss: 0.3290 - val_accuracy: 0.9216\n",
            "Epoch 34/100\n",
            "600/600 [==============================] - 5s 8ms/step - loss: 0.3343 - accuracy: 0.9225 - val_loss: 0.3242 - val_accuracy: 0.9240\n",
            "Epoch 35/100\n",
            "600/600 [==============================] - 4s 7ms/step - loss: 0.3301 - accuracy: 0.9235 - val_loss: 0.3208 - val_accuracy: 0.9229\n",
            "Epoch 36/100\n",
            "600/600 [==============================] - 4s 7ms/step - loss: 0.3259 - accuracy: 0.9250 - val_loss: 0.3176 - val_accuracy: 0.9248\n",
            "Epoch 37/100\n",
            "600/600 [==============================] - 5s 8ms/step - loss: 0.3218 - accuracy: 0.9260 - val_loss: 0.3138 - val_accuracy: 0.9273\n",
            "Epoch 38/100\n",
            "600/600 [==============================] - 4s 7ms/step - loss: 0.3180 - accuracy: 0.9271 - val_loss: 0.3117 - val_accuracy: 0.9273\n",
            "Epoch 39/100\n",
            "600/600 [==============================] - 6s 9ms/step - loss: 0.3141 - accuracy: 0.9280 - val_loss: 0.3071 - val_accuracy: 0.9291\n",
            "Epoch 40/100\n",
            "600/600 [==============================] - 5s 8ms/step - loss: 0.3105 - accuracy: 0.9288 - val_loss: 0.3034 - val_accuracy: 0.9290\n",
            "Epoch 41/100\n",
            "600/600 [==============================] - 4s 7ms/step - loss: 0.3070 - accuracy: 0.9299 - val_loss: 0.3011 - val_accuracy: 0.9302\n",
            "Epoch 42/100\n",
            "600/600 [==============================] - 5s 8ms/step - loss: 0.3037 - accuracy: 0.9310 - val_loss: 0.2976 - val_accuracy: 0.9306\n",
            "Epoch 43/100\n",
            "600/600 [==============================] - 4s 7ms/step - loss: 0.3004 - accuracy: 0.9315 - val_loss: 0.2946 - val_accuracy: 0.9318\n",
            "Epoch 44/100\n",
            "600/600 [==============================] - 5s 8ms/step - loss: 0.2972 - accuracy: 0.9325 - val_loss: 0.2911 - val_accuracy: 0.9324\n",
            "Epoch 45/100\n",
            "600/600 [==============================] - 4s 7ms/step - loss: 0.2942 - accuracy: 0.9334 - val_loss: 0.2888 - val_accuracy: 0.9330\n",
            "Epoch 46/100\n",
            "600/600 [==============================] - 4s 7ms/step - loss: 0.2911 - accuracy: 0.9342 - val_loss: 0.2866 - val_accuracy: 0.9329\n",
            "Epoch 47/100\n",
            "600/600 [==============================] - 5s 9ms/step - loss: 0.2883 - accuracy: 0.9358 - val_loss: 0.2843 - val_accuracy: 0.9343\n",
            "Epoch 48/100\n",
            "600/600 [==============================] - 5s 8ms/step - loss: 0.2853 - accuracy: 0.9360 - val_loss: 0.2818 - val_accuracy: 0.9349\n",
            "Epoch 49/100\n",
            "600/600 [==============================] - 4s 7ms/step - loss: 0.2826 - accuracy: 0.9367 - val_loss: 0.2788 - val_accuracy: 0.9347\n",
            "Epoch 50/100\n",
            "600/600 [==============================] - 4s 7ms/step - loss: 0.2799 - accuracy: 0.9376 - val_loss: 0.2777 - val_accuracy: 0.9345\n",
            "Epoch 51/100\n",
            "600/600 [==============================] - 5s 8ms/step - loss: 0.2774 - accuracy: 0.9382 - val_loss: 0.2740 - val_accuracy: 0.9363\n",
            "Epoch 52/100\n",
            "600/600 [==============================] - 5s 8ms/step - loss: 0.2748 - accuracy: 0.9391 - val_loss: 0.2724 - val_accuracy: 0.9376\n",
            "Epoch 53/100\n",
            "600/600 [==============================] - 4s 7ms/step - loss: 0.2724 - accuracy: 0.9396 - val_loss: 0.2696 - val_accuracy: 0.9376\n",
            "Epoch 54/100\n",
            "600/600 [==============================] - 4s 7ms/step - loss: 0.2701 - accuracy: 0.9403 - val_loss: 0.2676 - val_accuracy: 0.9381\n",
            "Epoch 55/100\n",
            "600/600 [==============================] - 5s 8ms/step - loss: 0.2675 - accuracy: 0.9412 - val_loss: 0.2652 - val_accuracy: 0.9382\n",
            "Epoch 56/100\n",
            "600/600 [==============================] - 5s 9ms/step - loss: 0.2652 - accuracy: 0.9414 - val_loss: 0.2629 - val_accuracy: 0.9385\n",
            "Epoch 57/100\n",
            "600/600 [==============================] - 5s 8ms/step - loss: 0.2630 - accuracy: 0.9423 - val_loss: 0.2614 - val_accuracy: 0.9392\n",
            "Epoch 58/100\n",
            "600/600 [==============================] - 5s 8ms/step - loss: 0.2609 - accuracy: 0.9426 - val_loss: 0.2591 - val_accuracy: 0.9393\n",
            "Epoch 59/100\n",
            "600/600 [==============================] - 4s 7ms/step - loss: 0.2587 - accuracy: 0.9434 - val_loss: 0.2578 - val_accuracy: 0.9403\n",
            "Epoch 60/100\n",
            "600/600 [==============================] - 4s 7ms/step - loss: 0.2566 - accuracy: 0.9442 - val_loss: 0.2559 - val_accuracy: 0.9405\n",
            "Epoch 61/100\n",
            "600/600 [==============================] - 4s 7ms/step - loss: 0.2546 - accuracy: 0.9446 - val_loss: 0.2541 - val_accuracy: 0.9419\n",
            "Epoch 62/100\n",
            "600/600 [==============================] - 4s 7ms/step - loss: 0.2525 - accuracy: 0.9450 - val_loss: 0.2529 - val_accuracy: 0.9426\n",
            "Epoch 63/100\n",
            "600/600 [==============================] - 5s 8ms/step - loss: 0.2505 - accuracy: 0.9453 - val_loss: 0.2510 - val_accuracy: 0.9429\n",
            "Epoch 64/100\n",
            "600/600 [==============================] - 6s 9ms/step - loss: 0.2485 - accuracy: 0.9463 - val_loss: 0.2483 - val_accuracy: 0.9437\n",
            "Epoch 65/100\n",
            "600/600 [==============================] - 4s 7ms/step - loss: 0.2467 - accuracy: 0.9467 - val_loss: 0.2473 - val_accuracy: 0.9441\n",
            "Epoch 66/100\n",
            "600/600 [==============================] - 4s 7ms/step - loss: 0.2448 - accuracy: 0.9477 - val_loss: 0.2452 - val_accuracy: 0.9439\n",
            "Epoch 67/100\n",
            "600/600 [==============================] - 5s 8ms/step - loss: 0.2430 - accuracy: 0.9477 - val_loss: 0.2438 - val_accuracy: 0.9448\n",
            "Epoch 68/100\n",
            "600/600 [==============================] - 4s 7ms/step - loss: 0.2413 - accuracy: 0.9482 - val_loss: 0.2423 - val_accuracy: 0.9454\n",
            "Epoch 69/100\n",
            "600/600 [==============================] - 4s 7ms/step - loss: 0.2394 - accuracy: 0.9491 - val_loss: 0.2415 - val_accuracy: 0.9450\n",
            "Epoch 70/100\n",
            "600/600 [==============================] - 5s 8ms/step - loss: 0.2376 - accuracy: 0.9491 - val_loss: 0.2393 - val_accuracy: 0.9463\n",
            "Epoch 71/100\n",
            "600/600 [==============================] - 4s 7ms/step - loss: 0.2361 - accuracy: 0.9496 - val_loss: 0.2385 - val_accuracy: 0.9470\n",
            "Epoch 72/100\n",
            "600/600 [==============================] - 6s 10ms/step - loss: 0.2344 - accuracy: 0.9498 - val_loss: 0.2367 - val_accuracy: 0.9470\n",
            "Epoch 73/100\n",
            "600/600 [==============================] - 4s 7ms/step - loss: 0.2327 - accuracy: 0.9503 - val_loss: 0.2350 - val_accuracy: 0.9481\n",
            "Epoch 74/100\n",
            "600/600 [==============================] - 4s 7ms/step - loss: 0.2311 - accuracy: 0.9506 - val_loss: 0.2335 - val_accuracy: 0.9482\n",
            "Epoch 75/100\n",
            "600/600 [==============================] - 5s 8ms/step - loss: 0.2296 - accuracy: 0.9512 - val_loss: 0.2327 - val_accuracy: 0.9491\n",
            "Epoch 76/100\n",
            "600/600 [==============================] - 5s 8ms/step - loss: 0.2280 - accuracy: 0.9518 - val_loss: 0.2314 - val_accuracy: 0.9482\n",
            "Epoch 77/100\n",
            "600/600 [==============================] - 4s 7ms/step - loss: 0.2266 - accuracy: 0.9524 - val_loss: 0.2298 - val_accuracy: 0.9499\n",
            "Epoch 78/100\n",
            "600/600 [==============================] - 5s 8ms/step - loss: 0.2251 - accuracy: 0.9524 - val_loss: 0.2291 - val_accuracy: 0.9496\n",
            "Epoch 79/100\n",
            "600/600 [==============================] - 4s 7ms/step - loss: 0.2237 - accuracy: 0.9532 - val_loss: 0.2277 - val_accuracy: 0.9504\n",
            "Epoch 80/100\n",
            "600/600 [==============================] - 6s 9ms/step - loss: 0.2222 - accuracy: 0.9534 - val_loss: 0.2265 - val_accuracy: 0.9499\n",
            "Epoch 81/100\n",
            "600/600 [==============================] - 5s 8ms/step - loss: 0.2208 - accuracy: 0.9536 - val_loss: 0.2250 - val_accuracy: 0.9514\n",
            "Epoch 82/100\n",
            "600/600 [==============================] - 5s 8ms/step - loss: 0.2194 - accuracy: 0.9541 - val_loss: 0.2242 - val_accuracy: 0.9496\n",
            "Epoch 83/100\n",
            "600/600 [==============================] - 5s 8ms/step - loss: 0.2181 - accuracy: 0.9543 - val_loss: 0.2222 - val_accuracy: 0.9515\n",
            "Epoch 84/100\n",
            "600/600 [==============================] - 4s 7ms/step - loss: 0.2167 - accuracy: 0.9547 - val_loss: 0.2217 - val_accuracy: 0.9517\n",
            "Epoch 85/100\n",
            "600/600 [==============================] - 4s 7ms/step - loss: 0.2154 - accuracy: 0.9550 - val_loss: 0.2208 - val_accuracy: 0.9508\n",
            "Epoch 86/100\n",
            "600/600 [==============================] - 4s 7ms/step - loss: 0.2141 - accuracy: 0.9555 - val_loss: 0.2193 - val_accuracy: 0.9525\n",
            "Epoch 87/100\n",
            "600/600 [==============================] - 5s 8ms/step - loss: 0.2128 - accuracy: 0.9557 - val_loss: 0.2182 - val_accuracy: 0.9518\n",
            "Epoch 88/100\n",
            "600/600 [==============================] - 6s 9ms/step - loss: 0.2117 - accuracy: 0.9563 - val_loss: 0.2177 - val_accuracy: 0.9516\n",
            "Epoch 89/100\n",
            "600/600 [==============================] - 5s 8ms/step - loss: 0.2103 - accuracy: 0.9566 - val_loss: 0.2174 - val_accuracy: 0.9513\n",
            "Epoch 90/100\n",
            "600/600 [==============================] - 5s 8ms/step - loss: 0.2091 - accuracy: 0.9568 - val_loss: 0.2153 - val_accuracy: 0.9533\n",
            "Epoch 91/100\n",
            "600/600 [==============================] - 5s 8ms/step - loss: 0.2079 - accuracy: 0.9570 - val_loss: 0.2143 - val_accuracy: 0.9531\n",
            "Epoch 92/100\n",
            "600/600 [==============================] - 4s 7ms/step - loss: 0.2067 - accuracy: 0.9576 - val_loss: 0.2132 - val_accuracy: 0.9530\n",
            "Epoch 93/100\n",
            "600/600 [==============================] - 4s 7ms/step - loss: 0.2055 - accuracy: 0.9575 - val_loss: 0.2130 - val_accuracy: 0.9527\n",
            "Epoch 94/100\n",
            "600/600 [==============================] - 5s 8ms/step - loss: 0.2045 - accuracy: 0.9582 - val_loss: 0.2117 - val_accuracy: 0.9537\n",
            "Epoch 95/100\n",
            "600/600 [==============================] - 5s 8ms/step - loss: 0.2033 - accuracy: 0.9584 - val_loss: 0.2106 - val_accuracy: 0.9550\n",
            "Epoch 96/100\n",
            "600/600 [==============================] - 6s 9ms/step - loss: 0.2022 - accuracy: 0.9588 - val_loss: 0.2099 - val_accuracy: 0.9537\n",
            "Epoch 97/100\n",
            "600/600 [==============================] - 5s 8ms/step - loss: 0.2012 - accuracy: 0.9588 - val_loss: 0.2093 - val_accuracy: 0.9547\n",
            "Epoch 98/100\n",
            "600/600 [==============================] - 5s 8ms/step - loss: 0.2002 - accuracy: 0.9594 - val_loss: 0.2079 - val_accuracy: 0.9550\n",
            "Epoch 99/100\n",
            "600/600 [==============================] - 4s 7ms/step - loss: 0.1990 - accuracy: 0.9598 - val_loss: 0.2074 - val_accuracy: 0.9556\n",
            "Epoch 100/100\n",
            "600/600 [==============================] - 5s 8ms/step - loss: 0.1980 - accuracy: 0.9601 - val_loss: 0.2060 - val_accuracy: 0.9560\n"
          ]
        }
      ]
    },
    {
      "cell_type": "code",
      "source": [
        "#7.visualiser les erreurs\n",
        "plt.rcParams[\"figure.figsize\"] = [6., 5.]\n",
        "plt.rcParams.update({'font.size': 14})\n",
        "plt.plot(hist_wd.history[\"accuracy\"],c='b',label=\"Ens. d'apprentissage\")\n",
        "plt.plot(hist_wd.history[\"val_accuracy\"],c='r',label=\"Ens. de test\")\n",
        "plt.xlabel(\"n_epoch\")\n",
        "plt.ylabel(\"Taux de classification\")\n",
        "plt.legend()\n",
        "plt.show()"
      ],
      "metadata": {
        "colab": {
          "base_uri": "https://localhost:8080/",
          "height": 361
        },
        "id": "3TPEfL7HHX3u",
        "outputId": "ed74a672-22d0-4c89-d80f-a50da4d65c3e"
      },
      "execution_count": 50,
      "outputs": [
        {
          "output_type": "display_data",
          "data": {
            "text/plain": [
              "<Figure size 432x360 with 1 Axes>"
            ],
            "image/png": "[encoded data removed]"
          },
          "metadata": {
            "needs_background": "light"
          }
        }
      ]
    },
    {
      "cell_type": "code",
      "source": [
        "#8. Evaluer vos modèle sur l’ensemble de test\n",
        "\n",
        "plt.rcParams[\"figure.figsize\"] = [9., 9.]\n",
        "plt.rcParams[\"figure.autolayout\"] = True\n",
        "plt.rcParams.update({'font.size': 12})\n",
        "fig, axs = plt.subplots(nrows=3, ncols=3)\n",
        "axs = axs.flatten()\n",
        "y_pred_wd=wd.predict(x_test_v)\n",
        "color=\"red\"\n",
        "for ax,j in zip(axs, range(9)):\n",
        "  ax.axis(\"off\")\n",
        "  ax.imshow(x_test[j], cmap='gray')\n",
        "if (y_test[j]==np.argmax(y_pred_wd[j])):\n",
        "  color=\"green\"\n",
        "else:\n",
        "  color=\"red\"\n",
        "\n",
        "ax.set_title(\"V.Réelle:\"+str(y_test[j])+\"Prédiction:\"+str(np.argmax(y_pred_wd[j])),c=color)\n",
        "plt.show()"
      ],
      "metadata": {
        "colab": {
          "base_uri": "https://localhost:8080/",
          "height": 670
        },
        "id": "7ljTPK68HXpX",
        "outputId": "8223b44b-21ec-409f-fe42-530f523a3639"
      },
      "execution_count": 57,
      "outputs": [
        {
          "output_type": "stream",
          "name": "stdout",
          "text": [
            "313/313 [==============================] - 1s 2ms/step\n"
          ]
        },
        {
          "output_type": "display_data",
          "data": {
            "text/plain": [
              "<Figure size 648x648 with 9 Axes>"
            ],
            "image/png": "[encoded data removed]"
          },
          "metadata": {
            "needs_background": "light"
          }
        }
      ]
    },
    {
      "cell_type": "code",
      "source": [
        "indice_exemple=1\n",
        "image_test1=x_test_v[indice_exemple]\n",
        "predictionProba =wd.predict(image_test1.reshape(1,-1))\n",
        "predictionClass=np.argmax(predictionProba)\n",
        "fig, (ax1, ax2) = plt.subplots(1, 2, figsize=(12,6))\n",
        "ax1.imshow(x_test[indice_exemple], cmap='gray')\n",
        "ax1.axis(\"off\")\n",
        "y_pos = np.arange(10)\n",
        "barlist=ax2.barh(y_pos,predictionProba[0])\n",
        "if(predictionClass==y_test[indice_exemple]):\n",
        "  barlist[int(predictionClass)].set_color('g')\n",
        "else:\n",
        "  barlist[int(predictionClass)].set_color('r')\n",
        "plt.yticks(y_pos, y_pos, fontsize=20)\n",
        "plt.show()"
      ],
      "metadata": {
        "colab": {
          "base_uri": "https://localhost:8080/",
          "height": 454
        },
        "id": "Vnkp-5JYHXl5",
        "outputId": "6862f579-f857-423f-d3fd-9dc20c4f2973"
      },
      "execution_count": 58,
      "outputs": [
        {
          "output_type": "stream",
          "name": "stdout",
          "text": [
            "1/1 [==============================] - 0s 21ms/step\n"
          ]
        },
        {
          "output_type": "display_data",
          "data": {
            "text/plain": [
              "<Figure size 864x432 with 2 Axes>"
            ],
            "image/png": "[encoded data removed]"
          },
          "metadata": {
            "needs_background": "light"
          }
        }
      ]
    },
    {
      "cell_type": "code",
      "source": [
        "test_loss_wd, test_acc_wd= wd.evaluate(x_test_v,  y_test_c, verbose=2)"
      ],
      "metadata": {
        "colab": {
          "base_uri": "https://localhost:8080/"
        },
        "id": "6szmbaDjeu9f",
        "outputId": "03cca1dc-5ad6-4642-dcbc-0f777328f49f"
      },
      "execution_count": 59,
      "outputs": [
        {
          "output_type": "stream",
          "name": "stdout",
          "text": [
            "313/313 - 1s - loss: 0.2060 - accuracy: 0.9560 - 971ms/epoch - 3ms/step\n"
          ]
        }
      ]
    },
    {
      "cell_type": "code",
      "source": [
        "pred_wd= wd.predict(x_test_v) \n",
        "pred_wd= np.argmax(pred_wd, axis = 1)[:20] \n",
        "label_wd = np.argmax(y_test_c,axis = 1)[:20] \n",
        "\n",
        "print(pred_wd) \n",
        "print(label_wd)"
      ],
      "metadata": {
        "colab": {
          "base_uri": "https://localhost:8080/"
        },
        "id": "fv7ew6c_e0rT",
        "outputId": "da418409-1ae2-474f-c78b-4f089a326fd2"
      },
      "execution_count": 60,
      "outputs": [
        {
          "output_type": "stream",
          "name": "stdout",
          "text": [
            "313/313 [==============================] - 1s 3ms/step\n",
            "[7 2 1 0 4 1 4 9 6 9 0 6 9 0 1 5 9 7 3 4]\n",
            "[7 2 1 0 4 1 4 9 5 9 0 6 9 0 1 5 9 7 3 4]\n"
          ]
        }
      ]
    }
  ]
}